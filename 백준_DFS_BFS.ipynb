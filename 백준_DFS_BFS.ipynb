{
 "cells": [
  {
   "cell_type": "markdown",
   "metadata": {},
   "source": [
    "### 1260 DFS와 BFS"
   ]
  },
  {
   "cell_type": "code",
   "execution_count": null,
   "metadata": {},
   "outputs": [],
   "source": [
    "# adj matrix\n",
    "n, m, v = map(int, input().split())\n",
    "visit = [0 for x in range(n)]\n",
    "adj = [[0] * n for _ in range(n)]\n",
    "\n",
    "for i in range(m):\n",
    "    x, y = map(int, input().split())\n",
    "    adj[x-1][y-1] = adj[y-1][x-1] = 1\n",
    "\n",
    "# DFS\n",
    "visit = [0 for x in range(n)]\n",
    "paths = []\n",
    "\n",
    "def DFS(node):\n",
    "    paths.append(node)\n",
    "    visit[node] = 1\n",
    "    for i in range(n):\n",
    "        if adj[node][i] == 1 and visit[i] == 0: # node와 i가 연결되었고 i를 방문하지 않았다면?\n",
    "            #print(node, i)\n",
    "            DFS(i) #i에서 다시 DFS 시작\n",
    "\n",
    "DFS(v - 1)\n",
    "paths = [x+1 for x in paths]\n",
    "print(*paths)\n",
    "\n",
    "visit = [0 for x in range(n)]\n",
    "paths = []\n",
    "\n",
    "def BFS(node):\n",
    "    que = [node]\n",
    "    visit[node] = 1\n",
    "    paths.append(node)\n",
    "    while que:\n",
    "        v = que.pop(0)\n",
    "        for i in range(n):\n",
    "            if adj[v][i] == 1 and visit[i] == 0: #연결되어있는데 방문 안했을 경우\n",
    "                visit[i] = 1\n",
    "                paths.append(i)\n",
    "                que.append(i)\n",
    "                \n",
    "BFS(v - 1)       \n",
    "paths = [x+1 for x in paths]\n",
    "print(*paths)   \n"
   ]
  },
  {
   "cell_type": "markdown",
   "metadata": {},
   "source": [
    "### 2178 미로찾기"
   ]
  },
  {
   "cell_type": "code",
   "execution_count": null,
   "metadata": {},
   "outputs": [],
   "source": [
    "x, y = map(int, input().split())\n",
    "data = [[0] for _ in range(x)]\n",
    "for i in range(x):\n",
    "    tmp = str(input())\n",
    "    data[i] = [int(d) for d in tmp]\n",
    "visit = [[0] * y for _ in range(x)]\n",
    "\n",
    "dx = [1,-1,0,0]\n",
    "dy = [0,0,1,-1]\n",
    "\n",
    "arr = []\n",
    "arr.append((0,0))\n",
    "visit[0][0] = 1\n",
    "\n",
    "while arr:\n",
    "    a, b = arr.pop(0)\n",
    "    if a is x-1 and b is y-1:\n",
    "        print(visit[a][b])\n",
    "    for i in range(4):\n",
    "        ax = a + dx[i]\n",
    "        ay = b + dy[i]\n",
    "        if ax >= 0 and ax < x and ay >= 0 and ay < y:\n",
    "            if data[ax][ay] == 1 and visit[ax][ay] == 0:\n",
    "                visit[ax][ay] = visit[a][b] + 1\n",
    "                arr.append((ax,ay))\n",
    "                "
   ]
  },
  {
   "cell_type": "markdown",
   "metadata": {},
   "source": [
    "### 2606 바이러스"
   ]
  },
  {
   "cell_type": "code",
   "execution_count": null,
   "metadata": {},
   "outputs": [],
   "source": [
    "n = int(input())\n",
    "v = int(input())\n",
    "adj = [[0] * n for i in range(n)]\n",
    "\n",
    "for i in range(v):\n",
    "    x, y = map(int, input().split())\n",
    "    adj[x-1][y-1] = adj[y-1][x-1] = 1\n",
    "\n",
    "visit = [0 for x in range(n)]\n",
    "\n",
    "def BFS(node):\n",
    "    que = [node]\n",
    "    count = 0\n",
    "    while que:\n",
    "        v = que.pop(0)\n",
    "        for i in range(n):\n",
    "            if adj[v][i] == 1 and visit[i] == 0:\n",
    "                visit[i] = 1\n",
    "                count += 1\n",
    "                que.append(i)\n",
    "    return count-1\n",
    "                \n",
    "print(BFS(0))"
   ]
  },
  {
   "cell_type": "markdown",
   "metadata": {
    "collapsed": true
   },
   "source": [
    "### 7576 토마토 (시간초과 ㅠ)"
   ]
  },
  {
   "cell_type": "code",
   "execution_count": 2,
   "metadata": {
    "scrolled": true
   },
   "outputs": [
    {
     "ename": "SyntaxError",
     "evalue": "invalid syntax (<ipython-input-2-81f73e9797c6>, line 51)",
     "output_type": "error",
     "traceback": [
      "\u001b[0;36m  File \u001b[0;32m\"<ipython-input-2-81f73e9797c6>\"\u001b[0;36m, line \u001b[0;32m51\u001b[0m\n\u001b[0;31m    print(cal_tomato(box))\u001b[0m\n\u001b[0m        ^\u001b[0m\n\u001b[0;31mSyntaxError\u001b[0m\u001b[0;31m:\u001b[0m invalid syntax\n"
     ]
    }
   ],
   "source": [
    "N, M = map(int, input().split())\n",
    "\n",
    "box = [0]* M\n",
    "\n",
    "for i in range(M):\n",
    "    tmp = list(map(int, input().split()))\n",
    "    box[i] = tmp\n",
    "\n",
    "def cal_tomato(box):\n",
    "    # 처음 주어졌을 때 모든 토마토 익어있는 상태\n",
    "    box_size = N * M\n",
    "    flat_box = sum(box, [])\n",
    "    if not 0 in flat_box:\n",
    "        return 0\n",
    "\n",
    "    dx = [-1, 1, 0, 0]\n",
    "    dy = [0, 0, -1, 1]\n",
    "\n",
    "    tomato = [[0] * N for i in range(M)]\n",
    "    arr = []\n",
    "    for i in range(M):\n",
    "        for j in range(N):\n",
    "            if box[i][j] == 1:\n",
    "                arr.append([i,j])\n",
    "                tomato[i][j] = 1\n",
    "    arr = [[e] for e in arr]\n",
    "\n",
    "    # BFS 시작\n",
    "    while arr:\n",
    "        for array in arr: # 첫 스타트 여러군데일 수 있으니까 포문으로 돌리고\n",
    "#             if not array:\n",
    "#                 break\n",
    "            a, b = array.pop(0) # 큐에서 빼기\n",
    "            for j in range(4):\n",
    "                ax = a + dx[j]\n",
    "                ay = b + dy[j]\n",
    "                if ax >= 0 and ax < M and ay >= 0 and ay < N: # 박스 사이즈 안벗어나게\n",
    "                    if box[ax][ay] == 0 and tomato[ax][ay] == 0: # 방문하지 않았다면?\n",
    "                        tomato[ax][ay] = tomato[a][b] + 1 # 이전 지점에서 1씩 늘려\n",
    "                        array.append([ax,ay]) # 큐에 집어넣기\n",
    "        if not sum(arr, []):\n",
    "            break\n",
    "\n",
    "    # 토마토가 모두 익지 못하는 상태?\n",
    "    flat_tomato = sum(tomato,[])\n",
    "    if flat_box.count(-1) < flat_tomato.count(0):\n",
    "        return -1\n",
    "    \n",
    "    return max(sum(tomato,[])-1\n",
    "               \n",
    "print(cal_tomato(box))"
   ]
  },
  {
   "cell_type": "code",
   "execution_count": 6,
   "metadata": {},
   "outputs": [
    {
     "name": "stdout",
     "output_type": "stream",
     "text": [
      "6 4\n",
      "0 0 0 0 0 0\n",
      "0 0 0 0 0 0\n",
      "0 0 0 0 0 0\n",
      "0 0 0 0 0 1\n",
      "8\n"
     ]
    }
   ],
   "source": [
    "N, M = map(int, input().split())\n",
    "\n",
    "box = [0]* M\n",
    "\n",
    "for i in range(M):\n",
    "    tmp = list(map(int, input().split()))\n",
    "    box[i] = tmp\n",
    "\n",
    "def cal_tomato(box):\n",
    "    # 처음 주어졌을 때 모든 토마토 익어있는 상태\n",
    "    box_size = N * M\n",
    "    flat_box = sum(box, [])\n",
    "    if not 0 in flat_box:\n",
    "        return 0\n",
    "\n",
    "    dx = [-1, 1, 0, 0]\n",
    "    dy = [0, 0, -1, 1]\n",
    "\n",
    "    tomato = [[0] * N for i in range(M)]\n",
    "    arr = []\n",
    "    for i in range(M):\n",
    "        for j in range(N):\n",
    "            if box[i][j] == 1:\n",
    "                arr.append([i,j])\n",
    "                tomato[i][j] = 1\n",
    "    arr = [[e] for e in arr]\n",
    "\n",
    "    # BFS 시작\n",
    "    while arr:\n",
    "        try:\n",
    "            for array in arr: # 첫 스타트 여러군데일 수 있으니까 포문으로 돌리고\n",
    "                a, b = array.pop(0) # 큐에서 빼기\n",
    "                for j in range(4):\n",
    "                    ax = a + dx[j]\n",
    "                    ay = b + dy[j]\n",
    "                    if ax >= 0 and ax < M and ay >= 0 and ay < N: # 박스 사이즈 안벗어나게\n",
    "                        if box[ax][ay] == 0 and tomato[ax][ay] == 0: # 방문하지 않았다면?\n",
    "                            tomato[ax][ay] = tomato[a][b] + 1 # 이전 지점에서 1씩 늘려\n",
    "                            array.append([ax,ay]) # 큐에 집어넣기\n",
    "        except:\n",
    "            break\n",
    "\n",
    "    # 토마토가 모두 익지 못하는 상태?\n",
    "    flat_tomato = sum(tomato,[])\n",
    "    if flat_box.count(-1) < flat_tomato.count(0):\n",
    "        return -1\n",
    "    \n",
    "    return max(sum(tomato,[]))-1\n",
    "\n",
    "print(cal_tomato(box))"
   ]
  },
  {
   "cell_type": "markdown",
   "metadata": {
    "collapsed": true
   },
   "source": [
    "### 2667 단지번호붙이기"
   ]
  },
  {
   "cell_type": "code",
   "execution_count": 19,
   "metadata": {},
   "outputs": [
    {
     "name": "stdout",
     "output_type": "stream",
     "text": [
      "7\n",
      "0110100\n",
      "0110101\n",
      "1110101\n",
      "0000111\n",
      "0100000\n",
      "0111110\n",
      "0111000\n",
      "3\n",
      "7\n",
      "8\n",
      "9\n"
     ]
    }
   ],
   "source": [
    "from collections import deque\n",
    "\n",
    "X = int(input())\n",
    "\n",
    "apart = [0]* X\n",
    "\n",
    "for i in range(X):\n",
    "    tmp = str(input())\n",
    "    apart[i] = [int(d) for d in tmp]\n",
    "\n",
    "dx = [-1,1,0,0]\n",
    "dy = [0,0,-1,1]\n",
    "\n",
    "def BFS(apart, node):\n",
    "    arr = deque([node])\n",
    "    apart[node[0]][node[1]] = 2\n",
    "    res = 1\n",
    "    while arr:\n",
    "        a, b = arr.popleft()\n",
    "        for k in range(4):\n",
    "            ax = a + dx[k]\n",
    "            ay = b + dy[k]\n",
    "            if ax >= 0 and ax < X and ay >= 0 and ay < X:\n",
    "                if apart[ax][ay] == 1:\n",
    "                    apart[ax][ay] = -1\n",
    "                    res += 1\n",
    "                    arr.append([ax,ay])\n",
    "    return apart, res\n",
    "\n",
    "\n",
    "total_res = []\n",
    "\n",
    "cnt = 0\n",
    "for i in range(X):\n",
    "    for j in range(X):\n",
    "        if apart[i][j] == 1:\n",
    "            apart, res = BFS(apart, [i,j])\n",
    "            cnt += 1\n",
    "            total_res.append(res)\n",
    "\n",
    "if cnt == 0:\n",
    "    print(0)\n",
    "else:\n",
    "    print(cnt)\n",
    "    total_res.sort()\n",
    "    for res in total_res:\n",
    "        print(res)"
   ]
  },
  {
   "cell_type": "markdown",
   "metadata": {},
   "source": [
    "### 1389 케빈 베이컨의 6단계 법칙"
   ]
  },
  {
   "cell_type": "code",
   "execution_count": 37,
   "metadata": {},
   "outputs": [
    {
     "name": "stdout",
     "output_type": "stream",
     "text": [
      "5 5\n",
      "1 3\n",
      "1 4\n",
      "4 5\n",
      "4 3\n",
      "3 2\n",
      "3\n"
     ]
    }
   ],
   "source": [
    "from collections import deque\n",
    "from itertools import combinations\n",
    "\n",
    "n, v = map(int, input().split())\n",
    "graph = {}\n",
    "for i in range(n):\n",
    "    graph[i+1] = []\n",
    "\n",
    "for i in range(v):\n",
    "    p1, p2 = map(int, input().split())\n",
    "    graph[p1].append(p2)\n",
    "    graph[p2].append(p1)\n",
    "\n",
    "def BFS_kevin(graph, start, end):\n",
    "    paths = []\n",
    "    def BFS_paths(graph, start, end, visited=[]):\n",
    "        visited = visited + [start]\n",
    "        if start == end:\n",
    "            paths.append(len(visited)-1)\n",
    "        que = deque([start])\n",
    "        while que:\n",
    "            vertex = que.popleft()\n",
    "            for node in graph[vertex]:\n",
    "                if node not in visited:\n",
    "                    BFS_paths(graph, node, end, visited)\n",
    "    BFS_paths(graph, start, end)\n",
    "    return min(paths)\n",
    "\n",
    "\n",
    "length = [0] * n\n",
    "params = list(combinations(range(5), 2))\n",
    "\n",
    "for param in params:\n",
    "    length[param[0]] += BFS_kevin(graph, param[0]+1, param[1]+1)\n",
    "    length[param[1]] += BFS_kevin(graph, param[1]+1, param[0]+1)\n",
    "\n",
    "print(length.index(min(length)) + 1)\n"
   ]
  },
  {
   "cell_type": "code",
   "execution_count": 38,
   "metadata": {},
   "outputs": [
    {
     "data": {
      "text/plain": [
       "[6, 8, 5, 5, 8]"
      ]
     },
     "execution_count": 38,
     "metadata": {},
     "output_type": "execute_result"
    }
   ],
   "source": [
    "length"
   ]
  },
  {
   "cell_type": "code",
   "execution_count": 39,
   "metadata": {},
   "outputs": [
    {
     "data": {
      "text/plain": [
       "[(0, 1),\n",
       " (0, 2),\n",
       " (0, 3),\n",
       " (0, 4),\n",
       " (1, 2),\n",
       " (1, 3),\n",
       " (1, 4),\n",
       " (2, 3),\n",
       " (2, 4),\n",
       " (3, 4)]"
      ]
     },
     "execution_count": 39,
     "metadata": {},
     "output_type": "execute_result"
    }
   ],
   "source": [
    "params"
   ]
  },
  {
   "cell_type": "code",
   "execution_count": null,
   "metadata": {},
   "outputs": [],
   "source": []
  }
 ],
 "metadata": {
  "kernelspec": {
   "display_name": "Python 3",
   "language": "python",
   "name": "python3"
  },
  "language_info": {
   "codemirror_mode": {
    "name": "ipython",
    "version": 3
   },
   "file_extension": ".py",
   "mimetype": "text/x-python",
   "name": "python",
   "nbconvert_exporter": "python",
   "pygments_lexer": "ipython3",
   "version": "3.7.0"
  }
 },
 "nbformat": 4,
 "nbformat_minor": 2
}
