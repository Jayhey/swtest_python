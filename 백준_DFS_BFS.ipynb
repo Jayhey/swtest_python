{
 "cells": [
  {
   "cell_type": "markdown",
   "metadata": {},
   "source": [
    "### 1260 DFS와 BFS"
   ]
  },
  {
   "cell_type": "code",
   "execution_count": null,
   "metadata": {
    "collapsed": true
   },
   "outputs": [],
   "source": [
    "# adj matrix\n",
    "n, m, v = map(int, input().split())\n",
    "visit = [0 for x in range(n)]\n",
    "adj = [[0] * n for _ in range(n)]\n",
    "\n",
    "for i in range(m):\n",
    "    x, y = map(int, input().split())\n",
    "    adj[x-1][y-1] = adj[y-1][x-1] = 1\n",
    "\n",
    "# DFS\n",
    "visit = [0 for x in range(n)]\n",
    "paths = []\n",
    "\n",
    "def DFS(node):\n",
    "    paths.append(node)\n",
    "    visit[node] = 1\n",
    "    for i in range(n):\n",
    "        if adj[node][i] == 1 and visit[i] == 0: # node와 i가 연결되었고 i를 방문하지 않았다면?\n",
    "            #print(node, i)\n",
    "            DFS(i) #i에서 다시 DFS 시작\n",
    "\n",
    "DFS(v - 1)\n",
    "paths = [x+1 for x in paths]\n",
    "print(*paths)\n",
    "\n",
    "visit = [0 for x in range(n)]\n",
    "paths = []\n",
    "\n",
    "def BFS(node):\n",
    "    que = [node]\n",
    "    visit[node] = 1\n",
    "    paths.append(node)\n",
    "    while que:\n",
    "        v = que.pop(0)\n",
    "        for i in range(n):\n",
    "            if adj[v][i] == 1 and visit[i] == 0: #연결되어있는데 방문 안했을 경우\n",
    "                visit[i] = 1\n",
    "                paths.append(i)\n",
    "                que.append(i)\n",
    "                \n",
    "BFS(v - 1)       \n",
    "paths = [x+1 for x in paths]\n",
    "print(*paths)   \n"
   ]
  },
  {
   "cell_type": "markdown",
   "metadata": {},
   "source": [
    "### 2178 미로찾기"
   ]
  },
  {
   "cell_type": "code",
   "execution_count": 21,
   "metadata": {},
   "outputs": [
    {
     "name": "stdout",
     "output_type": "stream",
     "text": [
      "4 6\n",
      "101111\n",
      "101010\n",
      "101011\n",
      "111011\n",
      "14\n"
     ]
    }
   ],
   "source": [
    "x, y = map(int, input().split())\n",
    "data = [[0] for _ in range(x)]\n",
    "for i in range(x):\n",
    "    tmp = str(input())\n",
    "    data[i] = [int(d) for d in tmp]\n",
    "visit = [[0] * y for _ in range(x)]\n",
    "\n",
    "dx = [1,-1,0,0]\n",
    "dy = [0,0,1,-1]\n",
    "\n",
    "arr = []\n",
    "arr.append((0,0))\n",
    "visit[0][0] = 1\n",
    "\n",
    "while arr:\n",
    "    a, b = arr.pop(0)\n",
    "    if a is x-1 and b is y-1:\n",
    "        print(visit[a][b])\n",
    "    for i in range(4):\n",
    "        ax = a + dx[i]\n",
    "        ay = b + dy[i]\n",
    "        if ax >= 0 and ax < x and ay >= 0 and ay < y:\n",
    "            if data[ax][ay] == 1 and visit[ax][ay] == 0:\n",
    "                visit[ax][ay] = visit[a][b] + 1\n",
    "                arr.append((ax,ay))\n",
    "                "
   ]
  },
  {
   "cell_type": "markdown",
   "metadata": {},
   "source": [
    "### 2606 바이러스"
   ]
  },
  {
   "cell_type": "code",
   "execution_count": 46,
   "metadata": {},
   "outputs": [
    {
     "name": "stdout",
     "output_type": "stream",
     "text": [
      "7\n",
      "6\n",
      "1 2\n",
      "2 3\n",
      "1 5\n",
      "5 2\n",
      "5 6\n",
      "4 7\n",
      "4\n"
     ]
    }
   ],
   "source": [
    "n = int(input())\n",
    "v = int(input())\n",
    "adj = [[0] * n for i in range(n)]\n",
    "\n",
    "for i in range(v):\n",
    "    x, y = map(int, input().split())\n",
    "    adj[x-1][y-1] = adj[y-1][x-1] = 1\n",
    "\n",
    "visit = [0 for x in range(n)]\n",
    "\n",
    "def BFS(node):\n",
    "    que = [node]\n",
    "    count = 0\n",
    "    while que:\n",
    "        v = que.pop(0)\n",
    "        for i in range(n):\n",
    "            if adj[v][i] == 1 and visit[i] == 0:\n",
    "                visit[i] = 1\n",
    "                count += 1\n",
    "                que.append(i)\n",
    "    return count-1\n",
    "                \n",
    "print(BFS(0))"
   ]
  },
  {
   "cell_type": "code",
   "execution_count": 43,
   "metadata": {},
   "outputs": [
    {
     "name": "stdout",
     "output_type": "stream",
     "text": [
      "4\n"
     ]
    }
   ],
   "source": []
  },
  {
   "cell_type": "code",
   "execution_count": 42,
   "metadata": {},
   "outputs": [
    {
     "data": {
      "text/plain": [
       "6"
      ]
     },
     "execution_count": 42,
     "metadata": {},
     "output_type": "execute_result"
    }
   ],
   "source": [
    "v"
   ]
  },
  {
   "cell_type": "code",
   "execution_count": 35,
   "metadata": {},
   "outputs": [
    {
     "data": {
      "text/plain": [
       "[0, 0, 0, 0, 0, 0, 0]"
      ]
     },
     "execution_count": 35,
     "metadata": {},
     "output_type": "execute_result"
    }
   ],
   "source": [
    "visit"
   ]
  },
  {
   "cell_type": "code",
   "execution_count": 36,
   "metadata": {},
   "outputs": [
    {
     "data": {
      "text/plain": [
       "[[0, 1, 0, 0, 1, 0, 0],\n",
       " [1, 0, 1, 0, 1, 0, 0],\n",
       " [0, 1, 0, 0, 0, 0, 0],\n",
       " [0, 0, 0, 0, 0, 0, 1],\n",
       " [1, 1, 0, 0, 0, 1, 0],\n",
       " [0, 0, 0, 0, 1, 0, 0],\n",
       " [0, 0, 0, 1, 0, 0, 0]]"
      ]
     },
     "execution_count": 36,
     "metadata": {},
     "output_type": "execute_result"
    }
   ],
   "source": [
    "adj"
   ]
  },
  {
   "cell_type": "code",
   "execution_count": null,
   "metadata": {
    "collapsed": true
   },
   "outputs": [],
   "source": []
  }
 ],
 "metadata": {
  "kernelspec": {
   "display_name": "Python 3",
   "language": "python",
   "name": "python3"
  },
  "language_info": {
   "codemirror_mode": {
    "name": "ipython",
    "version": 3
   },
   "file_extension": ".py",
   "mimetype": "text/x-python",
   "name": "python",
   "nbconvert_exporter": "python",
   "pygments_lexer": "ipython3",
   "version": "3.6.3"
  }
 },
 "nbformat": 4,
 "nbformat_minor": 2
}
