{
 "cells": [
  {
   "cell_type": "code",
   "execution_count": null,
   "metadata": {
    "collapsed": true
   },
   "outputs": [],
   "source": [
    "n, m, v = map(int, input().split())\n",
    "\n",
    "for i in range(m):\n",
    "    start, end = map(int, input().split())\n",
    "    visit[start] = "
   ]
  },
  {
   "cell_type": "code",
   "execution_count": 19,
   "metadata": {},
   "outputs": [
    {
     "name": "stdout",
     "output_type": "stream",
     "text": [
      "4 5 1\n",
      "1 2\n",
      "1 3\n",
      "1 4\n",
      "2 4\n",
      "3 4\n"
     ]
    }
   ],
   "source": [
    "visit = {}\n",
    "visit2 = {}\n",
    "graph = {}\n",
    "result = []\n",
    "\n",
    "N,M,V = map(int,input().split())\n",
    "# 간선수\n",
    "\n",
    "for i in range(M):\n",
    "    start, end = map(int,input().split())\n",
    "\n",
    "    visit[start] = visit.get(start,0)\n",
    "    visit[end] = visit.get(end, 0)\n",
    "    if not graph.get(start):\n",
    "        graph[start]=[]\n",
    "    if not graph.get(end):\n",
    "        graph[end] = []\n",
    "    graph[start].append(end)\n",
    "    graph[end].append(start)\n",
    "\n",
    "for a in load:\n",
    "    load[a].sort()\n",
    "visit2=visit.copy()\n"
   ]
  },
  {
   "cell_type": "code",
   "execution_count": 35,
   "metadata": {},
   "outputs": [
    {
     "data": {
      "text/plain": [
       "{1: [2, 3, 4], 2: [1, 4], 3: [1, 4], 4: [1, 2, 3]}"
      ]
     },
     "execution_count": 35,
     "metadata": {},
     "output_type": "execute_result"
    }
   ],
   "source": [
    "graph"
   ]
  },
  {
   "cell_type": "code",
   "execution_count": 34,
   "metadata": {},
   "outputs": [
    {
     "name": "stdout",
     "output_type": "stream",
     "text": [
      "[1, 4, 3, 2]\n"
     ]
    }
   ],
   "source": [
    "paths = []\n",
    "\n",
    "def DFS(graph, root):\n",
    "    stack = []\n",
    "    visited = []\n",
    "    stack.append(root)\n",
    "    while stack:\n",
    "        vertex = stack.pop()\n",
    "        if vertex not in visited:\n",
    "            visited.append(vertex)\n",
    "            input_to_stack = list(set(graph[vertex])-set(visited))\n",
    "            #input_to_stack.sort()\n",
    "            stack.extend(input_to_stack)\n",
    "    return visited\n",
    "print(DFS(graph,1))\n"
   ]
  },
  {
   "cell_type": "code",
   "execution_count": 31,
   "metadata": {},
   "outputs": [],
   "source": [
    "def DFS_recur(visit, load, start):\n",
    "    if visit[start] == 1:\n",
    "        return\n",
    "    visit[start] = 1\n",
    "    result.append(start)\n",
    "    for next in load.get(start,[]):\n",
    "        DFS(visit, load, next)"
   ]
  },
  {
   "cell_type": "code",
   "execution_count": 24,
   "metadata": {},
   "outputs": [],
   "source": [
    "DFS(visit,load,V)"
   ]
  },
  {
   "cell_type": "code",
   "execution_count": 32,
   "metadata": {},
   "outputs": [
    {
     "data": {
      "text/plain": [
       "{1: [2, 3, 4], 2: [1, 4], 3: [1, 4], 4: [1, 2, 3]}"
      ]
     },
     "execution_count": 32,
     "metadata": {},
     "output_type": "execute_result"
    }
   ],
   "source": [
    "graph"
   ]
  },
  {
   "cell_type": "code",
   "execution_count": null,
   "metadata": {
    "collapsed": true
   },
   "outputs": [],
   "source": []
  }
 ],
 "metadata": {
  "kernelspec": {
   "display_name": "Python 3",
   "language": "python",
   "name": "python3"
  },
  "language_info": {
   "codemirror_mode": {
    "name": "ipython",
    "version": 3
   },
   "file_extension": ".py",
   "mimetype": "text/x-python",
   "name": "python",
   "nbconvert_exporter": "python",
   "pygments_lexer": "ipython3",
   "version": "3.6.3"
  }
 },
 "nbformat": 4,
 "nbformat_minor": 2
}
