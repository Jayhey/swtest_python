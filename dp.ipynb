{
 "cells": [
  {
   "cell_type": "code",
   "execution_count": 20,
   "metadata": {},
   "outputs": [
    {
     "name": "stdout",
     "output_type": "stream",
     "text": [
      "33\n",
      "5\n"
     ]
    }
   ],
   "source": [
    "# 백준 1463\n",
    "x = int(input())\n",
    "\n",
    "dp = [0 for _ in range(x+1)]\n",
    "dp[1] = 0\n",
    "\n",
    "for i in range(2, x+1):\n",
    "    dp[i] = dp[i-1] + 1\n",
    "    if i % 2 == 0: dp[i] = min(dp[i], dp[i//2] + 1)\n",
    "    if i % 3 == 0: dp[i] = min(dp[i], dp[i//3] + 1)\n",
    "\n",
    "print(dp[x])"
   ]
  },
  {
   "cell_type": "code",
   "execution_count": 25,
   "metadata": {},
   "outputs": [
    {
     "name": "stdout",
     "output_type": "stream",
     "text": [
      "3\n",
      "7\n",
      "44\n",
      "4\n",
      "7\n",
      "244\n",
      "23213877163383965937228878019395137790261914333708909226259942919\n"
     ]
    }
   ],
   "source": [
    "T = int(input())\n",
    "\n",
    "for _ in range(T):\n",
    "    x = int(input())\n",
    "\n",
    "    dp = [0 for _ in range(x+1)]\n",
    "    dp[1] = 1\n",
    "    dp[2] = 2\n",
    "    dp[3] = 4\n",
    "    for i in range(4, x+1):\n",
    "        dp[i] = dp[i-1] + dp[i-2] + dp[i-3]\n",
    "    print(dp[x])"
   ]
  },
  {
   "cell_type": "code",
   "execution_count": null,
   "metadata": {
    "collapsed": true
   },
   "outputs": [],
   "source": []
  }
 ],
 "metadata": {
  "kernelspec": {
   "display_name": "Python 3",
   "language": "python",
   "name": "python3"
  },
  "language_info": {
   "codemirror_mode": {
    "name": "ipython",
    "version": 3
   },
   "file_extension": ".py",
   "mimetype": "text/x-python",
   "name": "python",
   "nbconvert_exporter": "python",
   "pygments_lexer": "ipython3",
   "version": "3.6.1"
  }
 },
 "nbformat": 4,
 "nbformat_minor": 2
}
