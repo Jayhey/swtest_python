{
 "cells": [
  {
   "cell_type": "code",
   "execution_count": 25,
   "metadata": {
    "collapsed": true
   },
   "outputs": [],
   "source": [
    "def BubbleSort(a):\n",
    "    for i in reversed(range(len(a))):\n",
    "        for j in range(0,i):\n",
    "            if a[j] > a[j+1]:\n",
    "                a[j], a[j+1] = a[j+1], a[j]\n",
    "    return a"
   ]
  },
  {
   "cell_type": "code",
   "execution_count": null,
   "metadata": {
    "collapsed": true
   },
   "outputs": [],
   "source": [
    "def CountingSort(A, B, k):\n",
    "    C = [0] * k\n",
    "    \n",
    "    for a in A:\n",
    "        C[a] += 1\n",
    "    for i in range(1, len(C)):\n",
    "        C[i] += C[i-1]\n",
    "    \n",
    "    for i in reversed(range(len(B))):\n",
    "        B[C[A[i]]-1] = A[i]\n",
    "        C[A[i]] -= 1\n",
    "                      \n",
    "    return B, C"
   ]
  },
  {
   "cell_type": "code",
   "execution_count": 48,
   "metadata": {
    "scrolled": true
   },
   "outputs": [
    {
     "name": "stdout",
     "output_type": "stream",
     "text": [
      "1\n",
      "1\n",
      "#1 0\n"
     ]
    }
   ],
   "source": [
    "#T = int(input())\n",
    "T = 1\n",
    "for t in range(T):\n",
    "    tmp = int(input())\n",
    "    test = list(map(int, input().split()))\n",
    "    \n",
    "    smallest = test[0]\n",
    "    for i in test:\n",
    "        if i < smallest:\n",
    "            smallest = i\n",
    "    largest = test[0]        \n",
    "    for i in test:\n",
    "        if i > largest:\n",
    "            largest = i\n",
    "\n",
    "    print(\"#\"+str(t+1), str(largest-smallest))"
   ]
  },
  {
   "cell_type": "code",
   "execution_count": 58,
   "metadata": {},
   "outputs": [
    {
     "name": "stdout",
     "output_type": "stream",
     "text": [
      "1\n",
      "3\n",
      "5\n",
      "7\n",
      "9\n"
     ]
    }
   ],
   "source": [
    "# K: 최대 이동가능 거리 \n",
    "# N : 종점거리 \n",
    "# M : 충전기 개수(리스트로 받음)\n",
    "\n",
    "N = 10\n",
    "M = [1,3,5,7,9]\n",
    "N = list(range(N))\n",
    "\n",
    "count = 0\n",
    "for i in range(len(M)):\n",
    "    print(M[i])\n",
    "    "
   ]
  },
  {
   "cell_type": "code",
   "execution_count": 56,
   "metadata": {},
   "outputs": [
    {
     "data": {
      "text/plain": [
       "[0, 1, 2, 3, 4, 5, 6, 7, 8, 9, 10]"
      ]
     },
     "execution_count": 56,
     "metadata": {},
     "output_type": "execute_result"
    }
   ],
   "source": [
    "a"
   ]
  },
  {
   "cell_type": "code",
   "execution_count": null,
   "metadata": {
    "collapsed": true
   },
   "outputs": [],
   "source": [
    "T = int(input())\n",
    "for t in range(T):\n",
    "    tmp = int(input())\n",
    "    test = list(map(int, input()))\n",
    "    count = test.count(max(test))\n",
    "    print(\"#\"+str(t+1), str(max(test)), str(count))"
   ]
  },
  {
   "cell_type": "code",
   "execution_count": null,
   "metadata": {
    "collapsed": true
   },
   "outputs": [],
   "source": []
  }
 ],
 "metadata": {
  "kernelspec": {
   "display_name": "Python 3",
   "language": "python",
   "name": "python3"
  },
  "language_info": {
   "codemirror_mode": {
    "name": "ipython",
    "version": 3
   },
   "file_extension": ".py",
   "mimetype": "text/x-python",
   "name": "python",
   "nbconvert_exporter": "python",
   "pygments_lexer": "ipython3",
   "version": "3.6.3"
  }
 },
 "nbformat": 4,
 "nbformat_minor": 2
}
