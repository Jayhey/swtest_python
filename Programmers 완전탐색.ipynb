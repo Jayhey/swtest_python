{
 "cells": [
  {
   "cell_type": "code",
   "execution_count": null,
   "metadata": {},
   "outputs": [],
   "source": [
    "# 소수 확인\n",
    "from itertools import permutations\n",
    "\n",
    "numbers = str(input())\n",
    "\n",
    "num = [str(d) for d in numbers]\n",
    "\n",
    "\n",
    "def is_prime(n):\n",
    "    if n == 0 or n == 1:\n",
    "        return False\n",
    "    for i in range(2,n):\n",
    "        if n % i == 0:\n",
    "            return False\n",
    "    else:\n",
    "        return True\n",
    "per_total = []\n",
    "for i in range(1,len(num)+1):\n",
    "    per = list(map(int, list(map(''.join, list(itertools.permutations(num, i))))))\n",
    "    per_total.extend(list(set(per)))\n",
    "per_total = list(set(per_total))\n",
    "\n",
    "tmp = []\n",
    "for n in per_total:\n",
    "    tmp.append(is_prime(n))\n",
    "sum(tmp)"
   ]
  },
  {
   "cell_type": "code",
   "execution_count": null,
   "metadata": {},
   "outputs": [],
   "source": [
    "# 숫자 야구\n",
    "\n",
    "from itertools import product\n",
    "\n",
    "num = [[123, 1, 1], [356, 1, 0], [327, 2, 0], [489, 0, 1]]\n",
    "cand = []\n",
    "for a in product(['1','2','3','4','5','6','7','8','9'],repeat=3):\n",
    "    cand.append(list(a))\n",
    "cand = list(map(''.join, cand))\n",
    "\n",
    "def same_score(target, stand):\n",
    "    target = [int(a) for a in target]\n",
    "    #stand = [int(a) for a in stand]\n",
    "    strike = 0\n",
    "    ball = 0\n",
    "    for i in range(len(stand)):\n",
    "        for j in range(len(target)):\n",
    "            if stand[i] == target[i]:\n",
    "                strike += 1\n",
    "                break\n",
    "            elif i != j and stand[i] == target[j]:\n",
    "                ball +=1\n",
    "    return [strike, ball]\n",
    "\n",
    "for i in range(len(num)):\n",
    "    newcand = []\n",
    "    stand = [int(d) for d in str(num[i][0])]\n",
    "    for c in cand:\n",
    "        if same_score(c ,stand) == [num[i][1], num[i][2]]:\n",
    "            newcand.append(c)\n",
    "    cand = newcand[:]\n",
    "\n",
    "print(len(cand))\n",
    "              "
   ]
  },
  {
   "cell_type": "code",
   "execution_count": 19,
   "metadata": {},
   "outputs": [],
   "source": [
    "brown, red = 8, 1\n",
    "area = brown + red\n",
    "limit = int(area**(0.5))\n",
    "answer = list()\n",
    "for i in range(3, limit+1):\n",
    "    if area % i == 0:\n",
    "        a = area//i\n",
    "        if (a-2) * (i-2) == red:\n",
    "            answer.append(a)\n",
    "            answer.append(i)\n"
   ]
  },
  {
   "cell_type": "code",
   "execution_count": 20,
   "metadata": {},
   "outputs": [
    {
     "data": {
      "text/plain": [
       "[3, 3]"
      ]
     },
     "execution_count": 20,
     "metadata": {},
     "output_type": "execute_result"
    }
   ],
   "source": [
    "answer"
   ]
  },
  {
   "cell_type": "code",
   "execution_count": null,
   "metadata": {
    "collapsed": true
   },
   "outputs": [],
   "source": []
  }
 ],
 "metadata": {
  "kernelspec": {
   "display_name": "Python 3",
   "language": "python",
   "name": "python3"
  },
  "language_info": {
   "codemirror_mode": {
    "name": "ipython",
    "version": 3
   },
   "file_extension": ".py",
   "mimetype": "text/x-python",
   "name": "python",
   "nbconvert_exporter": "python",
   "pygments_lexer": "ipython3",
   "version": "3.6.3"
  }
 },
 "nbformat": 4,
 "nbformat_minor": 2
}
