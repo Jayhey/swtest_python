{
 "cells": [
  {
   "cell_type": "code",
   "execution_count": 96,
   "metadata": {},
   "outputs": [
    {
     "name": "stdout",
     "output_type": "stream",
     "text": [
      "1\n",
      "3\n",
      "1 2 3 3 1\n",
      "3 6 6 8 1\n",
      "2 3 5 6 2\n",
      "#1 5\n"
     ]
    }
   ],
   "source": [
    "import numpy as np\n",
    "\n",
    "T = int(input())\n",
    "for test_case in range(1, T + 1):\n",
    "    red = np.empty((0,2))\n",
    "    blue = np.empty((0,2))\n",
    "    input_ = int(input())\n",
    "    for _ in range(input_):\n",
    "        x1, y1, x2, y2, c = map(int, input().split())\n",
    "        for i in range(x1, x2+1):\n",
    "            for j in range(y1, y2+1):\n",
    "                if c == 1:\n",
    "                    red = np.append(red, [[i,j]], axis=0)\n",
    "                else:\n",
    "                    blue = np.append(blue, [[i,j]], axis=0)\n",
    "    count = 0\n",
    "    for red_ in red:\n",
    "        for blue_ in blue:\n",
    "            if np.array_equal(red_, blue_):\n",
    "                count += 1\n",
    "    print(\"#\"+str(test_case), str(count))\n",
    "    "
   ]
  },
  {
   "cell_type": "code",
   "execution_count": 111,
   "metadata": {},
   "outputs": [
    {
     "name": "stdout",
     "output_type": "stream",
     "text": [
      "1\n",
      "2\n",
      "2 2 4 4 1\n",
      "3 3 6 6 2\n",
      "#1 4\n"
     ]
    }
   ],
   "source": [
    "T = int(input())\n",
    "for test_case in range(1, T + 1):\n",
    "    red = list()\n",
    "    blue = list()\n",
    "    input_ = int(input())\n",
    "    for _ in range(input_):\n",
    "        x1, y1, x2, y2, c = map(int, input().split())\n",
    "        for i in range(x1, x2+1):\n",
    "            for j in range(y1, y2+1):\n",
    "                if c == 1:\n",
    "                    red.append([i,j])\n",
    "                else:\n",
    "                    blue.append([i,j])\n",
    "    count = 0\n",
    "    for red_ in red:\n",
    "        for blue_ in blue:\n",
    "            if red_ == blue_:\n",
    "                count += 1\n",
    "    print(\"#\"+str(test_case), str(count))"
   ]
  }
 ],
 "metadata": {
  "kernelspec": {
   "display_name": "Python 3",
   "language": "python",
   "name": "python3"
  },
  "language_info": {
   "codemirror_mode": {
    "name": "ipython",
    "version": 3
   },
   "file_extension": ".py",
   "mimetype": "text/x-python",
   "name": "python",
   "nbconvert_exporter": "python",
   "pygments_lexer": "ipython3",
   "version": "3.6.1"
  }
 },
 "nbformat": 4,
 "nbformat_minor": 2
}
