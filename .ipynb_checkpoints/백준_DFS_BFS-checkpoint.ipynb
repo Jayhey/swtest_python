{
 "cells": [
  {
   "cell_type": "markdown",
   "metadata": {},
   "source": [
    "### 1260 DFS와 BFS"
   ]
  },
  {
   "cell_type": "code",
   "execution_count": null,
   "metadata": {
    "collapsed": true
   },
   "outputs": [],
   "source": [
    "# adj matrix\n",
    "n, m, v = map(int, input().split())\n",
    "visit = [0 for x in range(n)]\n",
    "adj = [[0] * n for _ in range(n)]\n",
    "\n",
    "for i in range(m):\n",
    "    x, y = map(int, input().split())\n",
    "    adj[x-1][y-1] = adj[y-1][x-1] = 1\n",
    "\n",
    "# DFS\n",
    "visit = [0 for x in range(n)]\n",
    "paths = []\n",
    "\n",
    "def DFS(node):\n",
    "    paths.append(node)\n",
    "    visit[node] = 1\n",
    "    for i in range(n):\n",
    "        if adj[node][i] == 1 and visit[i] == 0: # node와 i가 연결되었고 i를 방문하지 않았다면?\n",
    "            #print(node, i)\n",
    "            DFS(i) #i에서 다시 DFS 시작\n",
    "\n",
    "DFS(v - 1)\n",
    "paths = [x+1 for x in paths]\n",
    "print(*paths)\n",
    "\n",
    "visit = [0 for x in range(n)]\n",
    "paths = []\n",
    "\n",
    "def BFS(node):\n",
    "    que = [node]\n",
    "    visit[node] = 1\n",
    "    paths.append(node)\n",
    "    while que:\n",
    "        v = que.pop(0)\n",
    "        for i in range(n):\n",
    "            if adj[v][i] == 1 and visit[i] == 0: #연결되어있는데 방문 안했을 경우\n",
    "                visit[i] = 1\n",
    "                paths.append(i)\n",
    "                que.append(i)\n",
    "                \n",
    "BFS(v - 1)       \n",
    "paths = [x+1 for x in paths]\n",
    "print(*paths)   \n"
   ]
  },
  {
   "cell_type": "markdown",
   "metadata": {},
   "source": [
    "### 2178 미로찾기"
   ]
  },
  {
   "cell_type": "code",
   "execution_count": null,
   "metadata": {},
   "outputs": [],
   "source": [
    "x, y = map(int, input().split())\n",
    "data = [[0] for _ in range(x)]\n",
    "for i in range(x):\n",
    "    tmp = str(input())\n",
    "    data[i] = [int(d) for d in tmp]\n",
    "visit = [[0] * y for _ in range(x)]\n",
    "\n",
    "dx = [1,-1,0,0]\n",
    "dy = [0,0,1,-1]\n",
    "\n",
    "arr = []\n",
    "arr.append((0,0))\n",
    "visit[0][0] = 1\n",
    "\n",
    "while arr:\n",
    "    a, b = arr.pop(0)\n",
    "    if a is x-1 and b is y-1:\n",
    "        print(visit[a][b])\n",
    "    for i in range(4):\n",
    "        ax = a + dx[i]\n",
    "        ay = b + dy[i]\n",
    "        if ax >= 0 and ax < x and ay >= 0 and ay < y:\n",
    "            if data[ax][ay] == 1 and visit[ax][ay] == 0:\n",
    "                visit[ax][ay] = visit[a][b] + 1\n",
    "                arr.append((ax,ay))\n",
    "                "
   ]
  },
  {
   "cell_type": "markdown",
   "metadata": {},
   "source": [
    "### 2606 바이러스"
   ]
  },
  {
   "cell_type": "code",
   "execution_count": null,
   "metadata": {},
   "outputs": [],
   "source": [
    "n = int(input())\n",
    "v = int(input())\n",
    "adj = [[0] * n for i in range(n)]\n",
    "\n",
    "for i in range(v):\n",
    "    x, y = map(int, input().split())\n",
    "    adj[x-1][y-1] = adj[y-1][x-1] = 1\n",
    "\n",
    "visit = [0 for x in range(n)]\n",
    "\n",
    "def BFS(node):\n",
    "    que = [node]\n",
    "    count = 0\n",
    "    while que:\n",
    "        v = que.pop(0)\n",
    "        for i in range(n):\n",
    "            if adj[v][i] == 1 and visit[i] == 0:\n",
    "                visit[i] = 1\n",
    "                count += 1\n",
    "                que.append(i)\n",
    "    return count-1\n",
    "                \n",
    "print(BFS(0))"
   ]
  },
  {
   "cell_type": "markdown",
   "metadata": {
    "collapsed": true
   },
   "source": [
    "### 7576 토마토"
   ]
  },
  {
   "cell_type": "code",
   "execution_count": 84,
   "metadata": {
    "scrolled": true
   },
   "outputs": [
    {
     "name": "stdout",
     "output_type": "stream",
     "text": [
      "6 4\n",
      "1 -1 0 0 0 0\n",
      "0 -1 0 0 0 0\n",
      "0 0 0 0 -1 0\n",
      "0 0 0 0 -1 1\n"
     ]
    }
   ],
   "source": [
    "from collections import Counter\n",
    "\n",
    "N, M = map(int, input().split())\n",
    "\n",
    "box = [0]* M\n",
    "\n",
    "for i in range(M):\n",
    "    tmp = list(map(int, input().split()))\n",
    "    box[i] = tmp\n",
    "\n",
    "# 처음 주어졌을 때 모든 토마토 익어있는 상태\n",
    "box_size = N * M\n",
    "count = Counter(sum(box,[]))\n",
    "if count[1] + count[-1] is box_size:\n",
    "    print(0)    \n",
    "\n",
    "dx = [-1, 1, 0, 0]\n",
    "dy = [0, 0, -1, 1]\n",
    "\n",
    "tomato = [[0] * N for i in range(M)]\n",
    "arr = []\n",
    "for i in range(M):\n",
    "    for j in range(N):\n",
    "        if box[i][j] == 1:\n",
    "            arr.append([i,j])\n",
    "            tomato[i][j] = 1\n",
    "arr = [[e] for e in arr]\n",
    "\n",
    "while arr:\n",
    "    for array in arr:\n",
    "        if not array:\n",
    "            break\n",
    "        a, b = array.pop()\n",
    "        for j in range(4):\n",
    "            ax = a + dx[j]\n",
    "            ay = b + dy[j]\n",
    "            if ax >= 0 and ax < M and ay >= 0 and ay < N:\n",
    "                if box[ax][ay] == 0 and tomato[ax][ay] == 0:\n",
    "                    tomato[ax][ay] = tomato[a][b] + 1\n",
    "                    array.append([ax,ay])\n",
    "    if not sum(arr, []):\n",
    "        break\n",
    "print(max(sum(tomato, []))-1)\n",
    "    \n",
    "# 토마토가 모두 익지 못하는 상태?\n",
    "count_tomato = Counter(sum(tomato,[]))\n",
    "if count[-1] < count_tomato[0]:\n",
    "    print(-1)"
   ]
  },
  {
   "cell_type": "code",
   "execution_count": 172,
   "metadata": {},
   "outputs": [],
   "source": []
  },
  {
   "cell_type": "code",
   "execution_count": 173,
   "metadata": {},
   "outputs": [
    {
     "data": {
      "text/plain": [
       "Counter({-1: 4, 0: 18, 1: 2})"
      ]
     },
     "execution_count": 173,
     "metadata": {},
     "output_type": "execute_result"
    }
   ],
   "source": [
    "count"
   ]
  },
  {
   "cell_type": "code",
   "execution_count": 179,
   "metadata": {},
   "outputs": [],
   "source": []
  },
  {
   "cell_type": "code",
   "execution_count": 181,
   "metadata": {},
   "outputs": [
    {
     "data": {
      "text/plain": [
       "4"
      ]
     },
     "execution_count": 181,
     "metadata": {},
     "output_type": "execute_result"
    }
   ],
   "source": [
    "count_tomato[0]"
   ]
  },
  {
   "cell_type": "code",
   "execution_count": 182,
   "metadata": {},
   "outputs": [],
   "source": []
  },
  {
   "cell_type": "code",
   "execution_count": null,
   "metadata": {
    "collapsed": true
   },
   "outputs": [],
   "source": []
  }
 ],
 "metadata": {
  "kernelspec": {
   "display_name": "Python 3",
   "language": "python",
   "name": "python3"
  },
  "language_info": {
   "codemirror_mode": {
    "name": "ipython",
    "version": 3
   },
   "file_extension": ".py",
   "mimetype": "text/x-python",
   "name": "python",
   "nbconvert_exporter": "python",
   "pygments_lexer": "ipython3",
   "version": "3.6.3"
  }
 },
 "nbformat": 4,
 "nbformat_minor": 2
}
