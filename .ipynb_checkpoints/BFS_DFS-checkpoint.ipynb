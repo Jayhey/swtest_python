{
 "cells": [
  {
   "cell_type": "code",
   "execution_count": 2,
   "metadata": {
    "collapsed": true
   },
   "outputs": [],
   "source": [
    "graph = {'A': set(['B', 'C', 'E']),\n",
    "         'B': set(['A', 'D', 'F']),\n",
    "         'C': set(['A', 'G']),\n",
    "         'D': set(['B']),\n",
    "         'E': set(['A', 'F']),\n",
    "         'F': set(['B', 'E']),\n",
    "         'G': set(['G'])}"
   ]
  },
  {
   "cell_type": "code",
   "execution_count": 3,
   "metadata": {},
   "outputs": [
    {
     "name": "stdout",
     "output_type": "stream",
     "text": [
      "['D', 'B', 'F', 'E', 'A', 'C', 'G', 'A']\n"
     ]
    }
   ],
   "source": [
    "def DFS(graph, root):\n",
    "    stack = []\n",
    "    visited = []\n",
    "    stack.append(root)\n",
    "\n",
    "    while stack:\n",
    "        outputFromStack = stack.pop()\n",
    "        visited.append(outputFromStack)\n",
    "        inputToStack = list(set(graph[outputFromStack]) - set(visited))\n",
    "        inputToStack.sort()\n",
    "        stack.extend(inputToStack)\n",
    "    return visited\n",
    "\n",
    "print(DFS(graph, 'D'))"
   ]
  },
  {
   "cell_type": "code",
   "execution_count": 19,
   "metadata": {
    "collapsed": true
   },
   "outputs": [],
   "source": [
    "paths = []\n",
    "def DFS_paths(graph, start, end, visited=[]):\n",
    "    visited = visited + [start]\n",
    "    if start == end:\n",
    "        paths.append(visited)\n",
    "    \n",
    "    for node in graph[start]:\n",
    "        if node not in visited:\n",
    "            DFS_paths(graph, node, end, visited)\n",
    "\n",
    "    "
   ]
  },
  {
   "cell_type": "code",
   "execution_count": 20,
   "metadata": {},
   "outputs": [],
   "source": [
    "DFS_paths(graph, 'B', 'F')"
   ]
  },
  {
   "cell_type": "code",
   "execution_count": 21,
   "metadata": {},
   "outputs": [
    {
     "data": {
      "text/plain": [
       "[['B', 'A', 'E', 'F'], ['B', 'F']]"
      ]
     },
     "execution_count": 21,
     "metadata": {},
     "output_type": "execute_result"
    }
   ],
   "source": [
    "paths"
   ]
  },
  {
   "cell_type": "code",
   "execution_count": 7,
   "metadata": {},
   "outputs": [
    {
     "name": "stdout",
     "output_type": "stream",
     "text": [
      "['D', 'B', 'A', 'F', 'C', 'E', 'G']\n"
     ]
    }
   ],
   "source": [
    "def BFS(graph, root):\n",
    "    queue = []\n",
    "    visited = []\n",
    "    queue.append(root)\n",
    "    \n",
    "    while queue:\n",
    "        vertex = queue.pop(0)\n",
    "        if vertex not in visited:\n",
    "            visited.append(vertex)\n",
    "            input_to_queue = list(set(graph[vertex]) - set(visited))\n",
    "            input_to_queue.sort()\n",
    "            queue.extend(input_to_queue)\n",
    "    return visited\n",
    "\n",
    "print(BFS(graph, 'D'))\n",
    "        "
   ]
  },
  {
   "cell_type": "code",
   "execution_count": null,
   "metadata": {
    "collapsed": true
   },
   "outputs": [],
   "source": [
    "korea = {'세종': set(['서울', '강릉', '대구', '광주']),\n",
    "         '서울': set(['평양', '인천', '세종']),\n",
    "         '강릉': set(['독도', '세종']),\n",
    "         '광주': set(['세종', '여수']),\n",
    "         '대구': set(['세종', '울산']),\n",
    "         '평양': set(['서울', ]),\n",
    "         '인천': set(['서울', ]),\n",
    "         '독도': set(['강릉', ]),\n",
    "         '여수': set(['광주', '부산']),\n",
    "         '울산': set(['대구', '부산']),\n",
    "         '부산': set(['여수', '울산']),\n",
    "         }\n",
    "\n",
    "\n",
    "def BFS9(graph, root):\n",
    "    visit = []\n",
    "    \n",
    "\n"
   ]
  }
 ],
 "metadata": {
  "kernelspec": {
   "display_name": "Python 3",
   "language": "python",
   "name": "python3"
  },
  "language_info": {
   "codemirror_mode": {
    "name": "ipython",
    "version": 3
   },
   "file_extension": ".py",
   "mimetype": "text/x-python",
   "name": "python",
   "nbconvert_exporter": "python",
   "pygments_lexer": "ipython3",
   "version": "3.6.3"
  }
 },
 "nbformat": 4,
 "nbformat_minor": 2
}
