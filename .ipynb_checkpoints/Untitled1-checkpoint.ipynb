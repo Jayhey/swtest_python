{
 "cells": [
  {
   "cell_type": "code",
   "execution_count": 137,
   "metadata": {},
   "outputs": [
    {
     "name": "stdout",
     "output_type": "stream",
     "text": [
      "3\n",
      "32\n"
     ]
    }
   ],
   "source": [
    "# 10844 쉬운 계단 수\n",
    "n = int(input())\n",
    "\n",
    "dp = [[0 for _ in range(10)] for _ in range(n)]\n",
    "\n",
    "dp[0] = [0, 1, 1, 1, 1, 1, 1, 1, 1, 1]\n",
    "\n",
    "for i in range(1, n):\n",
    "    for j in range(len(dp[0])):\n",
    "        if j == 0:\n",
    "            dp[i][j] = dp[i-1][1] \n",
    "        elif j == 9:\n",
    "            dp[i][j] = dp[i-1][8] \n",
    "        else:\n",
    "            dp[i][j] = dp[i-1][j-1] + dp[i-1][j+1] \n",
    "    \n",
    "print(sum(dp[n-1]) % 1000000000)"
   ]
  },
  {
   "cell_type": "code",
   "execution_count": null,
   "metadata": {
    "collapsed": true
   },
   "outputs": [],
   "source": []
  }
 ],
 "metadata": {
  "kernelspec": {
   "display_name": "Python 3",
   "language": "python",
   "name": "python3"
  },
  "language_info": {
   "codemirror_mode": {
    "name": "ipython",
    "version": 3
   },
   "file_extension": ".py",
   "mimetype": "text/x-python",
   "name": "python",
   "nbconvert_exporter": "python",
   "pygments_lexer": "ipython3",
   "version": "3.6.3"
  }
 },
 "nbformat": 4,
 "nbformat_minor": 2
}
