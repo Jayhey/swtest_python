{
 "cells": [
  {
   "cell_type": "code",
   "execution_count": 2,
   "metadata": {
    "scrolled": true
   },
   "outputs": [
    {
     "name": "stdout",
     "output_type": "stream",
     "text": [
      "4 6\n",
      "101111\n",
      "101010\n",
      "101011\n",
      "111011\n",
      "15\n"
     ]
    }
   ],
   "source": [
    "x, y = map(int, input().split())\n",
    "data = [[0] for _ in range(x)]\n",
    "for i in range(x):\n",
    "    tmp = str(input())\n",
    "    data[i] = [int(d) for d in tmp]\n",
    "visit = [[0] * y for _ in range(x)]\n",
    "\n",
    "dx = [0,0,1,-1]\n",
    "dy = [1,-1,0,0]\n",
    "\n",
    "arr = []\n",
    "arr.append((0,0))\n",
    "\n",
    "visit[0][0] = 1\n",
    "while arr:\n",
    "    a, b = arr.pop(0)\n",
    "    if a is x-1 and b is y-1:\n",
    "        print(visit[a][b])\n",
    "    for i in range(4):\n",
    "        # 상하좌우 탐색\n",
    "        ax = a + dx[i]\n",
    "        ay = b + dy[i]\n",
    "        \n",
    "        if ax>=0 and ax<x and ay>=0 and ay<y: # 범위 내에 있는가?\n",
    "            if visit[ax][ay] == 0 and data[ax][ay] == 1: # 방문하지 않은 곳이면?\n",
    "                visit[ax][ay] = visit[a][b] + 1 # 방문 check\n",
    "                arr.append((ax, ay)) \n"
   ]
  },
  {
   "cell_type": "code",
   "execution_count": 91,
   "metadata": {
    "scrolled": true
   },
   "outputs": [
    {
     "name": "stdout",
     "output_type": "stream",
     "text": [
      "d\n"
     ]
    },
    {
     "ename": "ValueError",
     "evalue": "invalid literal for int() with base 10: 'd'",
     "output_type": "error",
     "traceback": [
      "\u001b[1;31m---------------------------------------------------------------------------\u001b[0m",
      "\u001b[1;31mValueError\u001b[0m                                Traceback (most recent call last)",
      "\u001b[1;32m<ipython-input-91-5a67d9bf219c>\u001b[0m in \u001b[0;36m<module>\u001b[1;34m()\u001b[0m\n\u001b[1;32m----> 1\u001b[1;33m \u001b[0mx\u001b[0m \u001b[1;33m=\u001b[0m \u001b[0mint\u001b[0m\u001b[1;33m(\u001b[0m\u001b[0minput\u001b[0m\u001b[1;33m(\u001b[0m\u001b[1;33m)\u001b[0m\u001b[1;33m)\u001b[0m\u001b[1;33m\u001b[0m\u001b[0m\n\u001b[0m\u001b[0;32m      2\u001b[0m \u001b[0mdata\u001b[0m \u001b[1;33m=\u001b[0m \u001b[1;33m[\u001b[0m\u001b[1;33m[\u001b[0m\u001b[1;36m0\u001b[0m\u001b[1;33m]\u001b[0m \u001b[1;32mfor\u001b[0m \u001b[0m_\u001b[0m \u001b[1;32min\u001b[0m \u001b[0mrange\u001b[0m\u001b[1;33m(\u001b[0m\u001b[0mx\u001b[0m\u001b[1;33m)\u001b[0m\u001b[1;33m]\u001b[0m\u001b[1;33m\u001b[0m\u001b[0m\n\u001b[0;32m      3\u001b[0m \u001b[1;32mfor\u001b[0m \u001b[0mi\u001b[0m \u001b[1;32min\u001b[0m \u001b[0mrange\u001b[0m\u001b[1;33m(\u001b[0m\u001b[0mx\u001b[0m\u001b[1;33m)\u001b[0m\u001b[1;33m:\u001b[0m\u001b[1;33m\u001b[0m\u001b[0m\n\u001b[0;32m      4\u001b[0m     \u001b[0mtmp\u001b[0m \u001b[1;33m=\u001b[0m \u001b[0mstr\u001b[0m\u001b[1;33m(\u001b[0m\u001b[0minput\u001b[0m\u001b[1;33m(\u001b[0m\u001b[1;33m)\u001b[0m\u001b[1;33m)\u001b[0m\u001b[1;33m\u001b[0m\u001b[0m\n\u001b[0;32m      5\u001b[0m     \u001b[0mdata\u001b[0m\u001b[1;33m[\u001b[0m\u001b[0mi\u001b[0m\u001b[1;33m]\u001b[0m \u001b[1;33m=\u001b[0m \u001b[1;33m[\u001b[0m\u001b[0mint\u001b[0m\u001b[1;33m(\u001b[0m\u001b[0md\u001b[0m\u001b[1;33m)\u001b[0m \u001b[1;32mfor\u001b[0m \u001b[0md\u001b[0m \u001b[1;32min\u001b[0m \u001b[0mtmp\u001b[0m\u001b[1;33m]\u001b[0m\u001b[1;33m\u001b[0m\u001b[0m\n",
      "\u001b[1;31mValueError\u001b[0m: invalid literal for int() with base 10: 'd'"
     ]
    }
   ],
   "source": [
    "x = int(input())\n",
    "data = [[0] for _ in range(x)]\n",
    "for i in range(x):\n",
    "    tmp = str(input())\n",
    "    data[i] = [int(d) for d in tmp]\n",
    "visit = [[0] * x for _ in range(x)]\n",
    "\n",
    "for i in range(x):\n",
    "    if 2 in data[i]:\n",
    "        start = (i, data[i].index(2))\n",
    "    if 3 in data[i]:\n",
    "        end = (i, data[i].index(3))\n",
    "\n",
    "dx = [0, 0, 1, -1]\n",
    "dy = [1, -1, 0, 0]\n",
    "\n",
    "arr = []\n",
    "arr.append(start)\n",
    "visit[start[0]][start[1]] = 1\n",
    "\n",
    "while arr:\n",
    "    a, b = arr.pop(0)\n",
    "    if a == end[0] and b == end[1]:\n",
    "        print(visit[a][b]-2)\n",
    "        break\n",
    "    for i in range(4):\n",
    "        ax = a + dx[i]\n",
    "        ay = b + dy[i]\n",
    "        if ax >= 0 and ax < x and ay >= 0 and ay < x:\n",
    "            if visit[ax][ay] == 0 and (data[ax][ay] == 0 or data[ax][ay] == 3):\n",
    "                visit[ax][ay] = visit[a][b] + 1\n",
    "                tmpx, tmpy = ax, ay\n",
    "                arr.append((ax, ay))\n",
    "    if not arr:\n",
    "        if data[tmpx][tmpy] == 0:\n",
    "            print(0)\n",
    "            break\n",
    "        "
   ]
  },
  {
   "cell_type": "code",
   "execution_count": 97,
   "metadata": {},
   "outputs": [
    {
     "name": "stdout",
     "output_type": "stream",
     "text": [
      "1\n",
      "5\n",
      "13101\n",
      "10101\n",
      "10101\n",
      "10101\n",
      "10021\n",
      "#1 5\n"
     ]
    }
   ],
   "source": [
    "T = int(input())\n",
    "# 여러개의 테스트 케이스가 주어지므로, 각각을 처리합니다.\n",
    "for test_case in range(1, T + 1):\n",
    "    x = int(input())\n",
    "    data = [[0] for _ in range(x)]\n",
    "    for i in range(x):\n",
    "        tmp = str(input())\n",
    "        data[i] = [int(d) for d in tmp]\n",
    "    visit = [[0] * x for _ in range(x)]\n",
    "\n",
    "    for i in range(x):\n",
    "        if 2 in data[i]:\n",
    "            start = (i, data[i].index(2))\n",
    "        if 3 in data[i]:\n",
    "            end = (i, data[i].index(3))\n",
    "\n",
    "    dx = [0, 0, 1, -1]\n",
    "    dy = [1, -1, 0, 0]\n",
    "\n",
    "    arr = []\n",
    "    arr.append(start)\n",
    "    visit[start[0]][start[1]] = 0\n",
    "\n",
    "    while arr:\n",
    "        a, b = arr.pop(0)\n",
    "        if a == end[0] and b == end[1]:\n",
    "            print(\"#\"+str(test_case), visit[a][b]-1)\n",
    "            break\n",
    "        for i in range(4):\n",
    "            ax = a + dx[i]\n",
    "            ay = b + dy[i]\n",
    "            if ax >= 0 and ax < x and ay >= 0 and ay < x:\n",
    "                if visit[ax][ay] == 0 and (data[ax][ay] == 0 or data[ax][ay] == 3):\n",
    "                    visit[ax][ay] = visit[a][b] + 1\n",
    "                    tmpx, tmpy = ax, ay\n",
    "                    arr.append((ax, ay))\n",
    "        if not arr:\n",
    "            if data[tmpx][tmpy] == 0:\n",
    "                print(\"#\"+str(test_case), str(0))\n",
    "                break\n",
    "    "
   ]
  },
  {
   "cell_type": "code",
   "execution_count": null,
   "metadata": {
    "collapsed": true
   },
   "outputs": [],
   "source": []
  }
 ],
 "metadata": {
  "kernelspec": {
   "display_name": "Python 3",
   "language": "python",
   "name": "python3"
  },
  "language_info": {
   "codemirror_mode": {
    "name": "ipython",
    "version": 3
   },
   "file_extension": ".py",
   "mimetype": "text/x-python",
   "name": "python",
   "nbconvert_exporter": "python",
   "pygments_lexer": "ipython3",
   "version": "3.6.3"
  }
 },
 "nbformat": 4,
 "nbformat_minor": 2
}
