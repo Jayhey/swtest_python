{
 "cells": [
  {
   "cell_type": "code",
   "execution_count": 43,
   "metadata": {},
   "outputs": [
    {
     "name": "stdout",
     "output_type": "stream",
     "text": [
      "1\n",
      "300 10 260\n",
      "#1 B\n"
     ]
    }
   ],
   "source": [
    "def binary_search(low, high, target, count=0): \n",
    "    mid = int((low + high)/ 2) \n",
    "    count += 1\n",
    "    if target == mid: \n",
    "        return count \n",
    "    elif target < mid:\n",
    "        return binary_search(low, mid - 1, target, count) \n",
    "    else: \n",
    "        return binary_search(mid + 1, high, target, count)\n",
    "\n",
    "\n",
    "T = int(input()) \n",
    "\n",
    "for test_case in range(1, T+1):\n",
    "    high, target_A, target_B = map(int, input().split())\n",
    "    A = binary_search(1, high, target_A)\n",
    "    B = binary_search(1, high, target_B)\n",
    "    if A < B:\n",
    "        print(\"#\"+str(test_case), \"A\")\n",
    "    elif A > B:\n",
    "        print(\"#\"+str(test_case), \"B\")\n",
    "    elif A == B:\n",
    "        print(\"#\"+str(test_case), str(0))"
   ]
  },
  {
   "cell_type": "code",
   "execution_count": null,
   "metadata": {
    "collapsed": true
   },
   "outputs": [],
   "source": []
  }
 ],
 "metadata": {
  "kernelspec": {
   "display_name": "Python 3",
   "language": "python",
   "name": "python3"
  },
  "language_info": {
   "codemirror_mode": {
    "name": "ipython",
    "version": 3
   },
   "file_extension": ".py",
   "mimetype": "text/x-python",
   "name": "python",
   "nbconvert_exporter": "python",
   "pygments_lexer": "ipython3",
   "version": "3.6.1"
  }
 },
 "nbformat": 4,
 "nbformat_minor": 2
}
