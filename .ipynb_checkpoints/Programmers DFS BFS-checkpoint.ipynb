{
 "cells": [
  {
   "cell_type": "code",
   "execution_count": null,
   "metadata": {},
   "outputs": [],
   "source": [
    "# 타겟 넘버\n",
    "import itertools\n",
    "\n",
    "numbers = [1,1,1,1,1]\n",
    "target = 3\n",
    "answer = 0\n",
    "ans_sum = 0\n",
    "ans_list = [i for i in range(len(numbers))]\n",
    "goal = sum(numbers) - target # 총합에서 target 값을 빼자. 즉 -조합만 맞추면 됨\n",
    "\n",
    "for i in range(len(numbers)):\n",
    "    comb = itertools.combinations(ans_list, i+1) # 1,2,3,4,5개 뽑는 combination\n",
    "    for s in comb: \n",
    "        for k in s:\n",
    "            ans_sum = ans_sum + numbers[k] * 2 \n",
    "        if ans_sum == goal:\n",
    "            answer = answer + 1 \n",
    "        ans_sum = 0\n",
    "print(answer)\n"
   ]
  },
  {
   "cell_type": "code",
   "execution_count": null,
   "metadata": {},
   "outputs": [],
   "source": [
    "# 네트워크\n",
    "def solution(n, computers):    \n",
    "    def BFS(node, visit):\n",
    "        que = [node]\n",
    "        visit[node] = 1\n",
    "        while que:\n",
    "            v = que.pop(0)\n",
    "            for i in range(n):\n",
    "                if computers[v][i] == 1 and visit[i] == 0:\n",
    "                    visit[i] = 1\n",
    "                    que.append(i)\n",
    "        return visit\n",
    "    visit = [0 for i in range(n)]\n",
    "    answer = 0\n",
    "    for i in range(n):\n",
    "        try:\n",
    "            visit = BFS(visit.index(0), visit)\n",
    "            answer += 1\n",
    "        except:\n",
    "            break\n",
    "    return answer\n"
   ]
  },
  {
   "cell_type": "code",
   "execution_count": 43,
   "metadata": {
    "scrolled": true
   },
   "outputs": [],
   "source": [
    "# 단어 변환\n",
    "begin = \"hit\"\n",
    "words = [\"hot\", \"dot\", \"dog\", \"lot\", \"log\", \"cog\"]\n",
    "words.insert(0, begin)\n",
    "graph = {word:[] for word in words}\n",
    "\n",
    "for word in words:\n",
    "    w = [str(s) for s in word]\n",
    "    for c_word in words:\n",
    "        c_w = [str(s) for s in c_word]\n",
    "        count = 0\n",
    "        for i in range(len(w)):\n",
    "            if w[i] is c_w[i]:\n",
    "                count += 1\n",
    "        if count is len(w)-1:\n",
    "            graph[word].append(c_word)\n",
    "        "
   ]
  },
  {
   "cell_type": "code",
   "execution_count": 45,
   "metadata": {},
   "outputs": [
    {
     "data": {
      "text/plain": [
       "{'cog': ['dog', 'log'],\n",
       " 'dog': ['dot', 'log', 'cog'],\n",
       " 'dot': ['hot', 'dog', 'lot'],\n",
       " 'hit': ['hot'],\n",
       " 'hot': ['hit', 'dot', 'lot'],\n",
       " 'log': ['dog', 'lot', 'cog'],\n",
       " 'lot': ['hot', 'dot', 'log']}"
      ]
     },
     "execution_count": 45,
     "metadata": {},
     "output_type": "execute_result"
    }
   ],
   "source": []
  },
  {
   "cell_type": "code",
   "execution_count": 13,
   "metadata": {},
   "outputs": [
    {
     "data": {
      "text/plain": [
       "['c', 'o', 'g']"
      ]
     },
     "execution_count": 13,
     "metadata": {},
     "output_type": "execute_result"
    }
   ],
   "source": [
    "w"
   ]
  },
  {
   "cell_type": "code",
   "execution_count": null,
   "metadata": {
    "collapsed": true
   },
   "outputs": [],
   "source": []
  }
 ],
 "metadata": {
  "kernelspec": {
   "display_name": "Python 3",
   "language": "python",
   "name": "python3"
  },
  "language_info": {
   "codemirror_mode": {
    "name": "ipython",
    "version": 3
   },
   "file_extension": ".py",
   "mimetype": "text/x-python",
   "name": "python",
   "nbconvert_exporter": "python",
   "pygments_lexer": "ipython3",
   "version": "3.6.3"
  }
 },
 "nbformat": 4,
 "nbformat_minor": 2
}
