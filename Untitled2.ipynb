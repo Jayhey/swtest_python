{
 "cells": [
  {
   "cell_type": "code",
   "execution_count": 31,
   "metadata": {},
   "outputs": [
    {
     "name": "stdout",
     "output_type": "stream",
     "text": [
      "10\n",
      "55\n"
     ]
    }
   ],
   "source": [
    "n = int(input())\n",
    "\n",
    "def fibonacci(n):\n",
    "    if n < 2:\n",
    "        return n\n",
    "    return fibo(n-1) + fibo(n-2)\n",
    "\n",
    "print(fibonacci(n))"
   ]
  },
  {
   "cell_type": "code",
   "execution_count": 34,
   "metadata": {},
   "outputs": [
    {
     "name": "stdout",
     "output_type": "stream",
     "text": [
      "10\n",
      "55\n"
     ]
    }
   ],
   "source": [
    "n = int(input())\n",
    "memo = {1:1, 2:1}\n",
    "def fibonacci(n):\n",
    "    if n is 0:\n",
    "        return 0\n",
    "    if n not in memo:\n",
    "        memo[n] = fibonacci(n-1) + fibonacci(n-2)\n",
    "    return memo[n]\n",
    "\n",
    "print(fibonacci(n))"
   ]
  },
  {
   "cell_type": "code",
   "execution_count": 35,
   "metadata": {},
   "outputs": [],
   "source": [
    "def fibonacci(n):\n",
    "    a, b = 1, 0\n",
    "    for i in range(n):\n",
    "        a, b = b, a+b\n",
    "    return b\n"
   ]
  },
  {
   "cell_type": "code",
   "execution_count": 39,
   "metadata": {},
   "outputs": [
    {
     "data": {
      "text/plain": [
       "55"
      ]
     },
     "execution_count": 39,
     "metadata": {},
     "output_type": "execute_result"
    }
   ],
   "source": [
    "fibonacci(10)"
   ]
  },
  {
   "cell_type": "code",
   "execution_count": 40,
   "metadata": {},
   "outputs": [
    {
     "name": "stdout",
     "output_type": "stream",
     "text": [
      "5\n",
      "3\n",
      "1 2\n",
      "5\n",
      "3 5\n",
      "76\n",
      "2111485077978050 3416454622906707\n",
      "3\n",
      "1 2\n",
      "3\n",
      "1 2\n"
     ]
    }
   ],
   "source": [
    "# 피보나치 함수\n",
    "a = int(input())\n",
    " \n",
    "zero = [1,0,1]\n",
    "one = [0,1,1]\n",
    "\n",
    "for i in range(a):\n",
    "    num = int(input())\n",
    "    length = len(zero)\n",
    "    if length <= num:\n",
    "        for i in range(length,num+1):\n",
    "            zero.append(zero[i-1]+zero[i-2])\n",
    "            one.append(one[i-1]+one[i-2])\n",
    "    print(\"%d %d\"%(zero[num],one[num]))\n"
   ]
  },
  {
   "cell_type": "code",
   "execution_count": 44,
   "metadata": {},
   "outputs": [
    {
     "data": {
      "text/plain": [
       "34"
      ]
     },
     "execution_count": 44,
     "metadata": {},
     "output_type": "execute_result"
    }
   ],
   "source": []
  },
  {
   "cell_type": "code",
   "execution_count": null,
   "metadata": {
    "collapsed": true
   },
   "outputs": [],
   "source": []
  }
 ],
 "metadata": {
  "kernelspec": {
   "display_name": "Python 3",
   "language": "python",
   "name": "python3"
  },
  "language_info": {
   "codemirror_mode": {
    "name": "ipython",
    "version": 3
   },
   "file_extension": ".py",
   "mimetype": "text/x-python",
   "name": "python",
   "nbconvert_exporter": "python",
   "pygments_lexer": "ipython3",
   "version": "3.6.3"
  }
 },
 "nbformat": 4,
 "nbformat_minor": 2
}
