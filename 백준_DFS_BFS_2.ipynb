{
 "cells": [
  {
   "cell_type": "markdown",
   "metadata": {},
   "source": [
    "### 4963 섬의 개수"
   ]
  },
  {
   "cell_type": "code",
   "execution_count": null,
   "metadata": {
    "collapsed": true
   },
   "outputs": [],
   "source": [
    "from collections import deque\n",
    "\n",
    "while True:    \n",
    "    y, x = map(int, input().split())\n",
    "    if [y,x] == [0,0]: # 0 0 치면 탈출\n",
    "        break\n",
    "    isla = [0] * x\n",
    "\n",
    "    for i in range(x):\n",
    "        isla[i] = list(map(int, input().split()))\n",
    "\n",
    "    dx = [1,-1,0,0,-1,-1,1,1]\n",
    "    dy = [0,0,1,-1,-1,1,-1,1]\n",
    "\n",
    "    def BFS(isla, node):\n",
    "        arr = deque([node])\n",
    "        isla[node[0]][node[1]] = -1\n",
    "        while arr:\n",
    "            a, b = arr.popleft()\n",
    "            for k in range(len(dx)):\n",
    "                ax = a + dx[k]\n",
    "                ay = b + dy[k]\n",
    "                if ax >= 0 and ax < x and ay >= 0 and ay < y:\n",
    "                    if isla[ax][ay] == 1:\n",
    "                        isla[ax][ay] = -1\n",
    "                        arr.append([ax,ay])\n",
    "        return isla\n",
    "\n",
    "    cnt = 0\n",
    "    for i in range(x):\n",
    "        for j in range(y):\n",
    "            if isla[i][j] == 1:\n",
    "                isla = BFS(isla, [i,j])\n",
    "                cnt += 1\n",
    "    print(cnt)\n"
   ]
  },
  {
   "cell_type": "markdown",
   "metadata": {},
   "source": [
    "####  1697 숨바꼭질 \n",
    "#### - 걷기, 순간이동 모두 1초로 같은 가중치로 최단거리 구하기. 따라서 BFS. 근데 왜틀림...?"
   ]
  },
  {
   "cell_type": "code",
   "execution_count": 34,
   "metadata": {},
   "outputs": [
    {
     "name": "stdout",
     "output_type": "stream",
     "text": [
      "5 17\n",
      "4\n"
     ]
    }
   ],
   "source": [
    "from collections import deque\n",
    "\n",
    "n, k = map(int, input().split())\n",
    "\n",
    "MAX = 2 * max(n,k) \n",
    "check = [0] * MAX\n",
    "check[n] = 1\n",
    "dist = [0] * MAX\n",
    "\n",
    "que = deque([n])\n",
    "while que:\n",
    "    now = que.popleft()\n",
    "    if check[k] is 1:\n",
    "        print(dist[k])\n",
    "        break\n",
    "    if now - 1 >= 0:\n",
    "        if check[now - 1] is 0:\n",
    "            que.append(now - 1)\n",
    "            check[now - 1] = 1\n",
    "            dist[now - 1] = dist[now] + 1\n",
    "    if now + 1 < MAX:\n",
    "        if check[now + 1] is 0:\n",
    "            que.append(now + 1)\n",
    "            check[now + 1] = 1\n",
    "            dist[now + 1] = dist[now] + 1\n",
    "    if now * 2 < MAX:\n",
    "        if check[now * 2] is 0:\n",
    "            que.append(now * 2)\n",
    "            check[now * 2] = 1\n",
    "            dist[now * 2] = dist[now] + 1\n"
   ]
  },
  {
   "cell_type": "markdown",
   "metadata": {},
   "source": [
    "### 14226 이모티콘"
   ]
  },
  {
   "cell_type": "code",
   "execution_count": null,
   "metadata": {
    "collapsed": true
   },
   "outputs": [],
   "source": [
    "from collections import deque\n",
    "\n",
    "S = int(input())\n",
    "\n",
    "adj = [[-1] * (S+1) for _ in range(S+1)]\n",
    "\n",
    "que = deque([[1, 0]])\n",
    "while que:\n",
    "    tmp = que.popleft()\n",
    "    s, c = tmp[0], tmp[1]\n",
    "    if adj[s][s] is -1:\n",
    "        adj[s][s] = adj[s][c] + 1\n",
    "        que.append([s,s])\n",
    "    if s+c <= S and adj[s+c][c] == -1:\n",
    "        adj[s+c][c] = adj[s][c] + 1\n",
    "        que.append([s+c,c])\n",
    "    if s-1 >= 0 and adj[s-1][c] == -1:\n",
    "        adj[s-1][c] = adj[s][c] + 1\n",
    "        que.append([s-1,c])\n",
    "\n",
    "ans = []\n",
    "for i in range(len(adj)):\n",
    "    ans.append(adj[i][-1])\n",
    "print(min(ans))"
   ]
  },
  {
   "cell_type": "markdown",
   "metadata": {},
   "source": [
    "#### 숨바꼭질3 (덱 써서 풀기)"
   ]
  },
  {
   "cell_type": "code",
   "execution_count": null,
   "metadata": {
    "collapsed": true
   },
   "outputs": [],
   "source": [
    "from collections import deque\n",
    "\n",
    "n, k = map(int, input().split())\n",
    "\n",
    "MAX = 100001\n",
    "check = [None] * MAX\n",
    "check[n] = 1\n",
    "dist = [None] * MAX\n",
    "dist[n] = 0\n",
    "\n",
    "que = deque([n])\n",
    "nxt_que = deque()\n",
    "while que:\n",
    "    now = que.popleft()\n",
    "    if now * 2 < MAX:\n",
    "        if check[now * 2] is None:\n",
    "            que.append(now * 2)\n",
    "            check[now * 2] = 1\n",
    "            dist[now * 2] = dist[now]\n",
    "    if now - 1 >= 0:\n",
    "        if check[now - 1] is None:\n",
    "            nxt_que.append(now - 1)\n",
    "            check[now - 1] = 1\n",
    "            dist[now - 1] = dist[now] + 1\n",
    "    if now + 1 < MAX:\n",
    "        if check[now + 1] is None:\n",
    "            nxt_que.append(now + 1)\n",
    "            check[now + 1] = 1\n",
    "            dist[now + 1] = dist[now] + 1\n",
    "    #print(nxt_que)\n",
    "    if que:\n",
    "        continue\n",
    "    else:\n",
    "        que = nxt_que\n",
    "        nxt_que = deque()\n",
    "\n",
    "print(dist[k])"
   ]
  },
  {
   "cell_type": "markdown",
   "metadata": {},
   "source": [
    "### 1261 알고스팟 (머리 식히고 다시 풀자 z 차원 높여야 할듯?)"
   ]
  },
  {
   "cell_type": "code",
   "execution_count": null,
   "metadata": {
    "collapsed": true,
    "scrolled": true
   },
   "outputs": [],
   "source": [
    "from collections import deque\n",
    "\n",
    "M, N = map(int, input().split())\n",
    "maze = [0] * N\n",
    "for i in range(N):\n",
    "    tmp = str(input())\n",
    "    maze[i] = [int(d) for d in tmp]\n",
    "\n",
    "visit = [[[0] * M for i in range(N)] for _ in range(2)]\n",
    "visit[0][0][0] = 1 # 벽아닌곳에서 시작점 1\n",
    "dx = [-1, 1, 0, 0]\n",
    "dy = [0, 0, -1, 1]\n",
    "c = 0\n",
    "arr = deque([[0,0,0]]) # z, x, y\n",
    "while arr:\n",
    "    print(arr)\n",
    "    #print(\"-------------------\")\n",
    "    z, x, y = arr.popleft()\n",
    "    for i in range(4):\n",
    "        ax = x + dx[i]\n",
    "        ay = y + dy[i]\n",
    "        if ax >= 0 and ax < M and ay >= 0 and ay < N: \n",
    "            if maze[ax][ay] == 0 and visit[z][ax][ay] == 0: # 벽이 아닌데 방문 x\n",
    "                visit[z][ax][ay] = visit[z][x][y] + 1\n",
    "                arr.append([z, ax,ay])\n",
    "            if z == 0 and maze[ax][ay] == 1 and visit[z+1][ax][ay] == 0: # 벽인데 방문 x\n",
    "                visit[z+1][ax][ay] = visit[z][x][y] + 1\n",
    "                arr.append([z+1, ax,ay])\n"
   ]
  },
  {
   "cell_type": "markdown",
   "metadata": {},
   "source": [
    "#### 2206 벽 부수고 이동하기"
   ]
  },
  {
   "cell_type": "code",
   "execution_count": null,
   "metadata": {
    "collapsed": true
   },
   "outputs": [],
   "source": [
    "from collections import deque\n",
    "\n",
    "N, M = map(int, input().split())\n",
    "maze = [0] * N\n",
    "for i in range(N):\n",
    "    tmp = str(input())\n",
    "    maze[i] = [int(d) for d in tmp]\n",
    "\n",
    "visit = [[[0] * M for i in range(N)] for _ in range(2)]\n",
    "visit[0][0][0] = 1 # 벽아닌곳에서 시작점 1\n",
    "dx = [0, 0, -1, 1]\n",
    "dy = [-1, 1, 0, 0]\n",
    "c = 0\n",
    "arr = deque([[0,0,0]]) # z, x, y\n",
    "while arr:\n",
    "    z, x, y = arr.popleft()\n",
    "    for i in range(4):\n",
    "        ax = x + dx[i]\n",
    "        ay = y + dy[i]\n",
    "        if ax >= 0 and ax <  N and ay >= 0 and ay < M: \n",
    "            if maze[ax][ay] == 0 and visit[z][ax][ay] == 0: # 벽이 아닌데 방문 x\n",
    "                visit[z][ax][ay] = visit[z][x][y] + 1\n",
    "                arr.append([z, ax,ay])\n",
    "            if z == 0 and maze[ax][ay] == 1 and visit[z+1][ax][ay] == 0: # 벽인데 방문 x\n",
    "                visit[z+1][ax][ay] = visit[z][x][y] + 1\n",
    "                arr.append([z+1, ax,ay])\n",
    "\n",
    "if visit[0][N-1][M-1] != 0 and visit[1][N-1][M-1] != 0:\n",
    "    print(min(visit[0][N-1][M-1], visit[1][N-1][M-1]))\n",
    "elif visit[0][N-1][M-1] != 0:\n",
    "    print(visit[0][N-1][M-1])\n",
    "elif visit[1][N-1][M-1] != 0:\n",
    "    print(visit[1][N-1][M-1])\n",
    "else:\n",
    "    print(-1)\n"
   ]
  },
  {
   "cell_type": "markdown",
   "metadata": {},
   "source": [
    "#### 3055 탈출 \n",
    "근데 왜 백준에선 틀렸다고 뜨냐 ..맞는거같은데 ㅠㅠ\n"
   ]
  },
  {
   "cell_type": "code",
   "execution_count": 46,
   "metadata": {
    "scrolled": true
   },
   "outputs": [
    {
     "name": "stdout",
     "output_type": "stream",
     "text": [
      "3 3\n",
      "D..\n",
      "...\n",
      "S..\n",
      "KAKTUS\n"
     ]
    }
   ],
   "source": [
    "# 물이 차는 시간을 먼저 계산한 다음에 고슴도치 이동을 계산하면 된다!\n",
    "# 이러면 동시 bfs 진행하는 경우보다 더 쉬움\n",
    "from collections import deque\n",
    "\n",
    "R, C = map(int, input().split())\n",
    "forest = [0] * R\n",
    "for i in range(R):\n",
    "\ttmp = str(input())\n",
    "\tforest[i] = [str(s) for s in tmp]\n",
    "\n",
    "dx = [0, 0, -1, 1]\n",
    "dy = [-1, 1, 0, 0]\n",
    "\n",
    "water = [[-1] * C for i in range(R)]  # 물 먼저 BFS 시작\n",
    "visit = [[0] * C for i in range(R)]\n",
    "\n",
    "arr = deque([])\n",
    "arr_hog = deque([])\n",
    "for i in range(R):\n",
    "\tfor j in range(C):\n",
    "\t\tif forest[i][j] == '*':\n",
    "\t\t\twater[i][j] = 0\n",
    "\t\t\tarr.append([i, j])\n",
    "\t\telif forest[i][j] == 'S':\n",
    "\t\t\tarr_hog.append([i, j])\n",
    "\t\telif forest[i][j] == 'D':\n",
    "\t\t\tfx, fy = i, j\n",
    "\n",
    "while arr:\n",
    "\ta, b = arr.popleft()\n",
    "\tfor i in range(4):\n",
    "\t\tax = a + dx[i]\n",
    "\t\tay = b + dy[i]\n",
    "\t\tif ax >= 0 and ax < R and ay >= 0 and ay < C:\n",
    "\t\t\tif forest[ax][ay] == 'X': continue\n",
    "\t\t\tif forest[ax][ay] == 'D': continue\n",
    "\t\t\tif water[ax][ay] == -1:\n",
    "\t\t\t\twater[ax][ay] = water[a][b] + 1\n",
    "\t\t\t\tarr.append([ax, ay])\n",
    "\n",
    "while arr_hog:\n",
    "\ta, b = arr_hog.popleft()\n",
    "\tfor i in range(4):\n",
    "\t\tax = a + dx[i]\n",
    "\t\tay = b + dy[i]\n",
    "\t\tif ax >= 0 and ax < R and ay >= 0 and ay < C:\n",
    "\t\t\tif forest[ax][ay] == 'X': continue\n",
    "\t\t\tif visit[ax][ay] == 0 and visit[a][b] + 1 >= water[ax][ay]:\n",
    "\t\t\t\tvisit[ax][ay] = visit[a][b] + 1\n",
    "\t\t\t\tarr_hog.append([ax, ay])\n",
    "\n",
    "\n",
    "if visit[fx][fy] == 0:\n",
    "\tprint(\"KAKTUS\")\n",
    "else:\n",
    "\tprint(visit[fx][fy])\n"
   ]
  },
  {
   "cell_type": "code",
   "execution_count": null,
   "metadata": {
    "collapsed": true
   },
   "outputs": [],
   "source": []
  }
 ],
 "metadata": {
  "hide_input": false,
  "kernelspec": {
   "display_name": "Python 3",
   "language": "python",
   "name": "python3"
  },
  "language_info": {
   "codemirror_mode": {
    "name": "ipython",
    "version": 3
   },
   "file_extension": ".py",
   "mimetype": "text/x-python",
   "name": "python",
   "nbconvert_exporter": "python",
   "pygments_lexer": "ipython3",
   "version": "3.6.3"
  }
 },
 "nbformat": 4,
 "nbformat_minor": 2
}
