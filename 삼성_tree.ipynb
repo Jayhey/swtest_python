{
 "cells": [
  {
   "cell_type": "code",
   "execution_count": null,
   "metadata": {
    "collapsed": true
   },
   "outputs": [],
   "source": [
    "old_list = [1,2,3,4]\n",
    "\n",
    "new_list = old_list # 주소만 복사(상호참조 주의)\n",
    "new_list = old_list[:] # 슬라이싱, 깊은 복사. 이걸 추천\n",
    "new_list = []\n",
    "new_list.extend(old_list) # 리스트 추가하는 함수, 깊은 복사\n",
    "new_list = list(old_list) # 깊은 복사\n",
    "\n",
    "import copy\n",
    "new_list = copy.copy(old_list) \n",
    "new_list = [i for i in old_list] # 리스트 함축\n",
    "new_list = copy.deepcopy(old_list) #가장 느림. 메모리 젤 많이씀. 원본 리스트에 포함된 원소들의 객체까지 깊은 복사"
   ]
  },
  {
   "cell_type": "code",
   "execution_count": null,
   "metadata": {},
   "outputs": [],
   "source": [
    "# 연결 리스트 : 개별적으로 위치하고 있는 원소의 주소를 연결하여 하나의 전체적 자료구조를 이룸\n",
    "# 물리적인 순서 맞추기 위한 작업 필요 x\n",
    "# 자료구조 동적 제어 가능. 메모리 효율적 사용 가능"
   ]
  },
  {
   "cell_type": "code",
   "execution_count": null,
   "metadata": {
    "collapsed": true
   },
   "outputs": [],
   "source": [
    "# 차수 : 노드에 연결된 자식 노드의 수\n",
    "# 트리에 있는 노드의 차수 중에서 가장 큰 값 : 트리의 차수\n",
    "# 리프 노드 : 자식이 없음\n",
    "# 두번째부터 높이 1 (깊이라고 보면 됨\n",
    "\n",
    "# 높이가 h면 최대 노드는 2^(h+1) - 1개\n",
    "# 높이가 h이고 노드 수가 n개이면 빈 자리가 없다? (2^h <= n < 2^(h+1)-1)\n",
    "\n",
    "# 순회(traversal) : 노드를 중복되지 않게 방문. 비선형 구조니까 선후 연결관계 모름\n",
    "# 전위 순회 : 자손노드보다 루트노드를 먼저 방문\n",
    "# 중위 순회 : 왼쪽 자손, 루트, 오른쪽 자손\n",
    "# 후위 순회 : 루트노트보다 자손을 먼저 방문\n"
   ]
  },
  {
   "cell_type": "code",
   "execution_count": null,
   "metadata": {
    "collapsed": true
   },
   "outputs": [],
   "source": [
    "# Expression tree\n",
    "\n",
    "# 부모 노드 : 해등 노드 i//2\n",
    "# 왼쪽 자식 노드는 2*i\n",
    "# 오른쪽 자식 노드는 2*i + 1\n",
    "# 높이가 h인 이진 트리를 위한 리스트 크기 : 2^i\n",
    "# 리스트를 이용하여 이진 트리 표현시 단점 : 메모리 공간 낭비(연결 리스트로 이진트리 표현으로 해결)\n"
   ]
  }
 ],
 "metadata": {
  "kernelspec": {
   "display_name": "Python 3",
   "language": "python",
   "name": "python3"
  },
  "language_info": {
   "codemirror_mode": {
    "name": "ipython",
    "version": 3
   },
   "file_extension": ".py",
   "mimetype": "text/x-python",
   "name": "python",
   "nbconvert_exporter": "python",
   "pygments_lexer": "ipython3",
   "version": "3.6.3"
  }
 },
 "nbformat": 4,
 "nbformat_minor": 2
}
