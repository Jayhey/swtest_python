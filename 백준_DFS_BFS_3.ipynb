{
 "cells": [
  {
   "cell_type": "markdown",
   "metadata": {},
   "source": [
    "#### 13913 숨바꼭질 4 "
   ]
  },
  {
   "cell_type": "code",
   "execution_count": null,
   "metadata": {},
   "outputs": [],
   "source": [
    "from collections import deque\n",
    "\n",
    "n, m = map(int, input().split())\n",
    "\n",
    "MAX = 200001\n",
    "check = [0] * MAX\n",
    "check[n] = 1\n",
    "dist = {n:0}\n",
    "parent = {n:n}\n",
    "que = deque([n])\n",
    "while que:\n",
    "    now = que.popleft()\n",
    "    value = [now - 1, now + 1, now * 2]\n",
    "    for v in value:\n",
    "        if v < 0 or v > 100000:\n",
    "            continue\n",
    "        if check[v] is 0:\n",
    "            check[v] = 1\n",
    "            dist[v] = dist[now] + 1\n",
    "            parent[v] = now\n",
    "            que.append(v)\n",
    "\n",
    "print(dist[m])\n",
    "\n",
    "stack=deque([])\n",
    "j=m\n",
    "while j!=n:\n",
    "    stack.append(j)\n",
    "    j=parent[j]\n",
    "stack.append(n)\n",
    "while 1:\n",
    "    try:\n",
    "        print(stack.pop(),end=' ')\n",
    "    except:\n",
    "        break"
   ]
  },
  {
   "cell_type": "markdown",
   "metadata": {
    "collapsed": true
   },
   "source": [
    "### 9019 DSLR"
   ]
  },
  {
   "cell_type": "code",
   "execution_count": 66,
   "metadata": {},
   "outputs": [
    {
     "name": "stdout",
     "output_type": "stream",
     "text": [
      "3\n",
      "1234 3412\n",
      "LL\n",
      "1000 1\n",
      "L\n",
      "1 16\n",
      "DDDD\n"
     ]
    }
   ],
   "source": [
    "# how에 전부 다 저장하면 용량이 너무 커짐! \n",
    "# 스택으로 쌓아서 하나씩 빼는 방법을 쓰자\n",
    "from collections import deque\n",
    "import sys\n",
    "\n",
    "T = int(input())\n",
    "\n",
    "for _ in range(T):\n",
    "    A, B = map(int, input().split())\n",
    "\n",
    "    MAX = 10001\n",
    "    check = [0] * MAX\n",
    "    dist = {A:0}\n",
    "    parent = {A:A}\n",
    "    how = {A:0}\n",
    "    que = deque([A])\n",
    "\n",
    "    def D(A):\n",
    "        return ['D',(A * 2) % 10000]\n",
    "    def S(A):\n",
    "        return ['S', A-1]\n",
    "    def L(A):\n",
    "        return ['L', (A%1000)*10 + int(A/1000)]\n",
    "    def R(A):\n",
    "        return ['R', int(A/10) + int(A%10) * 1000]\n",
    "\n",
    "    while que:\n",
    "        now = que.popleft()\n",
    "        value = [D(now), S(now), L(now), R(now)]\n",
    "        for s, v in value:\n",
    "            if v < 0 or v > 10000:\n",
    "                continue\n",
    "            if check[v] is 0:\n",
    "                check[v] = 1\n",
    "                dist[v] = dist[now] + 1\n",
    "                parent[v] = now\n",
    "                how[v] = s\n",
    "                que.append(v)\n",
    "\n",
    "    stack = []\n",
    "    while B != A:\n",
    "        stack += how[B]\n",
    "        B = parent[B]\n",
    "    stack.reverse()\n",
    "    print(''.join(stack))"
   ]
  },
  {
   "cell_type": "markdown",
   "metadata": {},
   "source": [
    "### 1525 퍼즐"
   ]
  },
  {
   "cell_type": "code",
   "execution_count": 17,
   "metadata": {},
   "outputs": [
    {
     "data": {
      "text/plain": [
       "6345"
      ]
     },
     "execution_count": 17,
     "metadata": {},
     "output_type": "execute_result"
    }
   ],
   "source": [
    "R(3456)"
   ]
  },
  {
   "cell_type": "code",
   "execution_count": null,
   "metadata": {},
   "outputs": [],
   "source": []
  }
 ],
 "metadata": {
  "hide_input": false,
  "kernelspec": {
   "display_name": "Python 3",
   "language": "python",
   "name": "python3"
  },
  "language_info": {
   "codemirror_mode": {
    "name": "ipython",
    "version": 3
   },
   "file_extension": ".py",
   "mimetype": "text/x-python",
   "name": "python",
   "nbconvert_exporter": "python",
   "pygments_lexer": "ipython3",
   "version": "3.7.0"
  }
 },
 "nbformat": 4,
 "nbformat_minor": 2
}
