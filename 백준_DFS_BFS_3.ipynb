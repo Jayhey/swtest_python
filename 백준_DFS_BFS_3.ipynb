{
 "cells": [
  {
   "cell_type": "markdown",
   "metadata": {},
   "source": [
    "#### 13913 숨바꼭질 4 "
   ]
  },
  {
   "cell_type": "code",
   "execution_count": 40,
   "metadata": {},
   "outputs": [
    {
     "name": "stdout",
     "output_type": "stream",
     "text": [
      "5 23\n"
     ]
    }
   ],
   "source": [
    "from collections import deque\n",
    "\n",
    "n, k = map(int, input().split())\n",
    "\n",
    "MAX = 100001\n",
    "check = [0] * MAX\n",
    "check[n] = 1\n",
    "dist = [0] * MAX\n",
    "parent = [0] * MAX\n",
    "\n",
    "que = deque([n])\n",
    "while que:\n",
    "    now = que.popleft()\n",
    "    if check[k] is 1:\n",
    "        print(dist[k])\n",
    "        break\n",
    "    if now - 1 >= 0:\n",
    "        if check[now - 1] is 0:\n",
    "            que.append(now - 1)\n",
    "            check[now - 1] = 1\n",
    "            parent[now - 1] = now\n",
    "            dist[now - 1] = dist[now] + 1\n",
    "    if now + 1 < MAX:\n",
    "        if check[now + 1] is 0:\n",
    "            que.append(now + 1)\n",
    "            check[now + 1] = 1\n",
    "            parent[now + 1] = now\n",
    "            dist[now + 1] = dist[now] + 1\n",
    "    if now * 2 < MAX:\n",
    "        if check[now * 2] is 0:\n",
    "            que.append(now * 2)\n",
    "            check[now * 2] = 1\n",
    "            parent[now * 1] = now\n",
    "            dist[now * 2] = dist[now] + 1\n"
   ]
  },
  {
   "cell_type": "code",
   "execution_count": 32,
   "metadata": {
    "collapsed": true
   },
   "outputs": [],
   "source": [
    "def path(n, k):\n",
    "    if n is not k:\n",
    "        path(n, parent[k])\n",
    "        print(parent[k])\n",
    "    print(k)\n"
   ]
  },
  {
   "cell_type": "markdown",
   "metadata": {
    "collapsed": true
   },
   "source": [
    "#### 9019 DSLR"
   ]
  },
  {
   "cell_type": "code",
   "execution_count": null,
   "metadata": {
    "collapsed": true
   },
   "outputs": [],
   "source": []
  }
 ],
 "metadata": {
  "hide_input": false,
  "kernelspec": {
   "display_name": "Python 3",
   "language": "python",
   "name": "python3"
  },
  "language_info": {
   "codemirror_mode": {
    "name": "ipython",
    "version": 3
   },
   "file_extension": ".py",
   "mimetype": "text/x-python",
   "name": "python",
   "nbconvert_exporter": "python",
   "pygments_lexer": "ipython3",
   "version": "3.6.3"
  }
 },
 "nbformat": 4,
 "nbformat_minor": 2
}
