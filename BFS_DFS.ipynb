{
 "cells": [
  {
   "cell_type": "code",
   "execution_count": 1,
   "metadata": {
    "collapsed": true
   },
   "outputs": [],
   "source": [
    "graph = {'A': set(['B', 'C', 'E']),\n",
    "         'B': set(['A', 'D', 'F']),\n",
    "         'C': set(['A', 'G']),\n",
    "         'D': set(['B']),\n",
    "         'E': set(['A', 'F']),\n",
    "         'F': set(['B', 'E']),\n",
    "         'G': set(['G'])}"
   ]
  },
  {
   "cell_type": "code",
   "execution_count": 2,
   "metadata": {},
   "outputs": [
    {
     "name": "stdout",
     "output_type": "stream",
     "text": [
      "['A', 'E', 'F', 'B', 'D', 'C', 'G']\n"
     ]
    }
   ],
   "source": [
    "def DFS(graph, root):\n",
    "    stack = []\n",
    "    visited = []\n",
    "    stack.append(root)\n",
    "\n",
    "    while stack:\n",
    "        vertex = stack.pop()\n",
    "        if vertex not in visited:\n",
    "            visited.append(vertex)\n",
    "            inputToStack = list(set(graph[vertex]) - set(visited))\n",
    "            inputToStack.sort()\n",
    "            stack.extend(inputToStack)\n",
    "    return visited\n",
    "\n",
    "print(DFS(graph, 'A'))"
   ]
  },
  {
   "cell_type": "code",
   "execution_count": 3,
   "metadata": {},
   "outputs": [
    {
     "data": {
      "text/plain": [
       "[['C', 'A', 'E', 'F', 'B'], ['C', 'A', 'B']]"
      ]
     },
     "execution_count": 3,
     "metadata": {},
     "output_type": "execute_result"
    }
   ],
   "source": [
    "paths = []\n",
    "def DFS_paths(graph, start, end, visited=[]):\n",
    "    visited = visited + [start]\n",
    "    if start == end:\n",
    "        paths.append(visited)\n",
    "    for node in graph[start]:\n",
    "        if node not in visited:\n",
    "            DFS_paths(graph, node, end, visited)            \n",
    "DFS_paths(graph, 'C', 'B')\n",
    "paths"
   ]
  },
  {
   "cell_type": "code",
   "execution_count": 4,
   "metadata": {},
   "outputs": [
    {
     "name": "stdout",
     "output_type": "stream",
     "text": [
      "['D', 'B', 'A', 'F', 'C', 'E', 'G']\n"
     ]
    }
   ],
   "source": [
    "def BFS(graph, root):\n",
    "    queue = []\n",
    "    visited = []\n",
    "    queue.append(root)\n",
    "    while queue:\n",
    "        vertex = queue.pop(0)\n",
    "        if vertex not in visited:\n",
    "            visited.append(vertex)\n",
    "            input_to_queue = list(set(graph[vertex]) - set(visited))\n",
    "            input_to_queue.sort()\n",
    "            queue.extend(input_to_queue)\n",
    "    return visited\n",
    "\n",
    "print(BFS(graph, 'D'))\n",
    "        "
   ]
  },
  {
   "cell_type": "code",
   "execution_count": 5,
   "metadata": {
    "collapsed": true
   },
   "outputs": [],
   "source": [
    "paths = []\n",
    "def BFS_paths(graph, start, end, visited=[]):\n",
    "    visited = visited + [start]\n",
    "    if start == end:\n",
    "        paths.append(visited)\n",
    "    \n",
    "    queue = [start]\n",
    "    while queue:\n",
    "        vertex = queue.pop(0)\n",
    "        for node in graph[vertex]:\n",
    "            if node not in visited:\n",
    "                BFS_paths(graph, node, end, visited)\n",
    "    "
   ]
  },
  {
   "cell_type": "code",
   "execution_count": 6,
   "metadata": {},
   "outputs": [
    {
     "name": "stdout",
     "output_type": "stream",
     "text": [
      "[['C', 'A', 'E', 'F', 'B'], ['C', 'A', 'B']]\n"
     ]
    }
   ],
   "source": [
    "BFS_paths(graph, 'C', 'B')\n",
    "print(paths)"
   ]
  },
  {
   "cell_type": "code",
   "execution_count": null,
   "metadata": {
    "collapsed": true
   },
   "outputs": [],
   "source": []
  }
 ],
 "metadata": {
  "kernelspec": {
   "display_name": "Python 3",
   "language": "python",
   "name": "python3"
  },
  "language_info": {
   "codemirror_mode": {
    "name": "ipython",
    "version": 3
   },
   "file_extension": ".py",
   "mimetype": "text/x-python",
   "name": "python",
   "nbconvert_exporter": "python",
   "pygments_lexer": "ipython3",
   "version": "3.6.3"
  }
 },
 "nbformat": 4,
 "nbformat_minor": 2
}
