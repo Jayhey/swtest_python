{
 "cells": [
  {
   "cell_type": "markdown",
   "metadata": {},
   "source": [
    "### 14891 톱니바퀴"
   ]
  },
  {
   "cell_type": "code",
   "execution_count": null,
   "metadata": {
    "collapsed": true,
    "scrolled": true
   },
   "outputs": [],
   "source": [
    "from collections import deque\n",
    "\n",
    "tooth = [[0] for i in range(4)]\n",
    "for i in range(4):\n",
    "    tmp = str(input())\n",
    "    tooth[i] = [int(s) for s in tmp]\n",
    "\n",
    "t = int(input())\n",
    "rotation = [[0] for _ in range(t)]\n",
    "for i in range(t):\n",
    "    a, b = list(map(int, input().split()))\n",
    "    rotation[i] = [a-1, b]\n",
    "\n",
    "\n",
    "def rotate(wheel, direction):\n",
    "    after = [0] * 8\n",
    "    if direction == 1:  # 시계 방향\n",
    "        for i in range(1, len(wheel)):\n",
    "            after[i] = wheel[i-1]\n",
    "        after[0] = wheel[7]\n",
    "    \n",
    "    elif direction == -1: # 반시계 방향\n",
    "        for i in range(len(wheel)-1):\n",
    "            after[i] = wheel[i+1]\n",
    "        after[7] = wheel[0]\n",
    "    else:  # \n",
    "        after = wheel\n",
    "    return after\n",
    "\n",
    "def direction(tooth, rotation):\n",
    "    d = [0] * len(tooth)\n",
    "    r = rotation\n",
    "    # 해당 톱니 기준 오른쪽 톱니\n",
    "    d[r[0]] = r[1]\n",
    "    for i in range(r[0], len(tooth)-1):\n",
    "        if tooth[i][2] != tooth[i+1][6]: # 극이 다를 경우\n",
    "            d[i+1] = -d[i]\n",
    "        else:  # 극이 다를 경우\n",
    "            d[i+1] = 0\n",
    "            break\n",
    "    # 해당 톱니 기준 왼쪽 톱니  \n",
    "    for i in range(r[0], 0, -1):\n",
    "        if tooth[i][6] != tooth[i-1][2]: \n",
    "            d[i-1] = -d[i]\n",
    "        else:\n",
    "            d[i-1] = 0\n",
    "            break\n",
    "    return d\n",
    "    \n",
    "for i in range(t):\n",
    "    d = direction(tooth, rotation[i])\n",
    "    for j in range(len(tooth)):\n",
    "        tooth[j] = rotate(tooth[j], d[j])\n",
    "\n",
    "ans = 0\n",
    "for i, wheel in enumerate(tooth):\n",
    "    ans = ans + (wheel[0] * (2**i))\n",
    "\n",
    "print(ans)"
   ]
  },
  {
   "cell_type": "markdown",
   "metadata": {},
   "source": [
    "### 15662 톱니바퀴(2)"
   ]
  },
  {
   "cell_type": "code",
   "execution_count": null,
   "metadata": {
    "collapsed": true,
    "scrolled": true
   },
   "outputs": [],
   "source": [
    "from collections import deque\n",
    "\n",
    "T = int(input())\n",
    "tooth = [[0] for i in range(T)]\n",
    "for i in range(T):\n",
    "    tmp = str(input())\n",
    "    tooth[i] = [int(s) for s in tmp]\n",
    "\n",
    "t = int(input())\n",
    "rotation = [[0] for _ in range(t)]\n",
    "for i in range(t):\n",
    "    a, b = list(map(int, input().split()))\n",
    "    rotation[i] = [a-1, b]\n",
    "\n",
    "\n",
    "\n",
    "\n",
    "def rotate(wheel, direction):\n",
    "    after = [0] * 8\n",
    "    if direction == 1:  # 시계 방향\n",
    "        for i in range(1, len(wheel)):\n",
    "            after[i] = wheel[i-1]\n",
    "        after[0] = wheel[7]\n",
    "    \n",
    "    elif direction == -1: # 반시계 방향\n",
    "        for i in range(len(wheel)-1):\n",
    "            after[i] = wheel[i+1]\n",
    "        after[7] = wheel[0]\n",
    "    else:  # \n",
    "        after = wheel\n",
    "    return after\n",
    "\n",
    "def direction(tooth, rotation):\n",
    "    d = [0] * len(tooth)\n",
    "    r = rotation\n",
    "    # 해당 톱니 기준 오른쪽 톱니\n",
    "    d[r[0]] = r[1]\n",
    "    for i in range(r[0], len(tooth)-1):\n",
    "        if tooth[i][2] != tooth[i+1][6]: # 극이 다를 경우\n",
    "            d[i+1] = -d[i]\n",
    "        else:  # 극이 다를 경우\n",
    "            d[i+1] = 0\n",
    "            break\n",
    "    # 해당 톱니 기준 왼쪽 톱니  \n",
    "    for i in range(r[0], 0, -1):\n",
    "        if tooth[i][6] != tooth[i-1][2]: \n",
    "            d[i-1] = -d[i]\n",
    "        else:\n",
    "            d[i-1] = 0\n",
    "            break\n",
    "    return d\n",
    "    \n",
    "\n",
    "for i in range(t): \n",
    "    d = direction(tooth, rotation[i])\n",
    "    for j in range(T):\n",
    "        tooth[j] = rotate(tooth[j], d[j])\n",
    "\n",
    "\n",
    "ans = 0\n",
    "for i, wheel in enumerate(tooth):\n",
    "    ans = ans + wheel[0]\n",
    "\n",
    "print(ans)"
   ]
  },
  {
   "cell_type": "markdown",
   "metadata": {},
   "source": [
    "### 14503 로봇 청소기\n",
    "2-1,2-2 와 2-3,2-4를 그룹짓자"
   ]
  },
  {
   "cell_type": "code",
   "execution_count": null,
   "metadata": {
    "collapsed": true,
    "scrolled": true
   },
   "outputs": [],
   "source": [
    "n, m = map(int, input().split()) # n : 세로, m : 가로\n",
    "x, y, d = map(int, input().split())\n",
    "\n",
    "room = [[None] * 50 for _ in range(50)]\n",
    "for i in range(n):\n",
    "    room[i] = list(map(int, input().split()))\n",
    "\n",
    "dx = [-1,0,1,0]  # 차례대로 북 서 남 동\n",
    "dy = [0,1,0,-1]\n",
    "\n",
    "while True:\n",
    "    if room[x][y] == 0:\n",
    "        room[x][y] = 2 # 1. 현재 위치 청소\n",
    "    # 2-3, 2-4부터 체크하면 문제가 훨씬 편함. 사방이 청소 가능한지 확인\n",
    "    if room[x+1][y] != 0 and room[x-1][y] != 0 and room[x][y-1] != 0 and room[x][y+1] != 0:\n",
    "        if room[x - dx[d]][y - dy[d]] == 1: # 뒤가 벽이면 멈춰\n",
    "            break\n",
    "        else: #뒤가 벽이 아니라면 후진\n",
    "            x -= dx[d]\n",
    "            y -= dy[d]\n",
    "    # 2-1, 2-2 진행\n",
    "    else:\n",
    "        d = (d+3) % 4\n",
    "        if room[x + dx[d]][y + dy[d]] == 0:\n",
    "            x += dx[d]\n",
    "            y += dy[d]\n",
    "        \n",
    "ans = 0\n",
    "for i in range(n):\n",
    "    for j in range(m):\n",
    "        if room[i][j] == 2:\n",
    "            ans += 1\n",
    "print(ans)"
   ]
  },
  {
   "cell_type": "markdown",
   "metadata": {},
   "source": [
    "### 15685 드래곤 커브 (y, x 순서 ㅡㅡ)"
   ]
  },
  {
   "cell_type": "code",
   "execution_count": 32,
   "metadata": {},
   "outputs": [
    {
     "name": "stdout",
     "output_type": "stream",
     "text": [
      "3\n",
      "3 3 0 1\n",
      "4 2 1 3\n",
      "4 2 2 1\n",
      "4\n"
     ]
    }
   ],
   "source": [
    "n = int(input())\n",
    "\n",
    "a = [[False] * 101 for _ in range(101)]\n",
    "\n",
    "dx = [0,-1,0,1]\n",
    "dy = [1,0,-1,0]\n",
    "\n",
    "def dragon_curve(d, g):\n",
    "    stack = [d]\n",
    "    for i in range(1, g+1):\n",
    "        # 이미 쌓여있는 스택에서 거꾸로 방향 +1씩 한다음 append\n",
    "        for j in reversed(range(len(stack))): \n",
    "            tmp = (stack[j] + 1) % 4\n",
    "            stack.append(tmp)\n",
    "    return stack\n",
    "    \n",
    "for i in range(n):\n",
    "    y, x, d, g = map(int, input().split())\n",
    "    a[x][y] = True\n",
    "    direction = dragon_curve(d, g)\n",
    "    for k in direction:\n",
    "        x += dx[k]\n",
    "        y += dy[k]\n",
    "        a[x][y] = True\n",
    "\n",
    "ans = 0 \n",
    "for i in range(100):\n",
    "    for j in range(100):\n",
    "        if a[i][j] and a[i+1][j] and a[i][j+1] and a[i+1][j+1] :\n",
    "            ans += 1\n",
    "print(ans)"
   ]
  },
  {
   "cell_type": "markdown",
   "metadata": {
    "collapsed": true
   },
   "source": [
    "### 14890 경사로"
   ]
  },
  {
   "cell_type": "code",
   "execution_count": 2,
   "metadata": {},
   "outputs": [
    {
     "name": "stdout",
     "output_type": "stream",
     "text": [
      "6 2\n",
      "3 3 3 3 3 3\n",
      "2 3 3 3 3 3\n",
      "2 2 2 3 2 3\n",
      "1 1 1 2 2 2\n",
      "1 1 1 3 3 1\n",
      "1 1 2 3 3 2\n"
     ]
    }
   ],
   "source": [
    "n, l = map(int, input().split())\n",
    "\n",
    "road = [[0] for _ in range(n)]\n",
    "\n",
    "for i in range(n):\n",
    "    road[i] = list(map(int, input().split()))"
   ]
  },
  {
   "cell_type": "code",
   "execution_count": null,
   "metadata": {
    "collapsed": true
   },
   "outputs": [],
   "source": [
    "## "
   ]
  }
 ],
 "metadata": {
  "hide_input": false,
  "kernelspec": {
   "display_name": "Python 3",
   "language": "python",
   "name": "python3"
  },
  "language_info": {
   "codemirror_mode": {
    "name": "ipython",
    "version": 3
   },
   "file_extension": ".py",
   "mimetype": "text/x-python",
   "name": "python",
   "nbconvert_exporter": "python",
   "pygments_lexer": "ipython3",
   "version": "3.6.3"
  }
 },
 "nbformat": 4,
 "nbformat_minor": 2
}
