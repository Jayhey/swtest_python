{
 "cells": [
  {
   "cell_type": "code",
   "execution_count": null,
   "metadata": {
    "collapsed": true,
    "scrolled": false
   },
   "outputs": [],
   "source": [
    "# 피보나치 함수\n",
    "a = int(input())\n",
    " \n",
    "zero = [1,0,1]\n",
    "one = [0,1,1]\n",
    "\n",
    "for i in range(a):\n",
    "    num = int(input())\n",
    "    length = len(zero)\n",
    "    if length <= num:\n",
    "        for i in range(length,num+1):\n",
    "            zero.append(zero[i-1]+zero[i-2])\n",
    "            one.append(one[i-1]+one[i-2])\n",
    "    print(\"%d %d\"%(zero[num],one[num]))\n"
   ]
  },
  {
   "cell_type": "code",
   "execution_count": null,
   "metadata": {
    "collapsed": true,
    "scrolled": true
   },
   "outputs": [],
   "source": [
    "# RGB 거리\n",
    "a = int(input())\n",
    "rgb = list()\n",
    "for i in range(a):\n",
    "    rgb.append(list(map(int, input().split())))\n",
    "    \n",
    "dp = []\n",
    "dp.append(rgb[0])\n",
    "\n",
    "for i in range(1, a):\n",
    "    r = min(dp[i-1][1], dp[i-1][2]) + rgb[i][0]\n",
    "    g = min(dp[i-1][0], dp[i-1][2]) + rgb[i][1]\n",
    "    b = min(dp[i-1][0], dp[i-1][1]) + rgb[i][2]\n",
    "    dp.append([r,g,b])\n",
    "\n",
    "print(min(dp[a-1]))"
   ]
  },
  {
   "cell_type": "code",
   "execution_count": null,
   "metadata": {
    "collapsed": true
   },
   "outputs": [],
   "source": [
    "# 1932 정수 삼각형\n",
    "a = int(input())\n",
    "tri = [0] * a\n",
    "\n",
    "for i in range(a):\n",
    "    tri[i] = list(map(int, input().split()))\n",
    "    \n",
    "for i in range(1, a):\n",
    "    for j in range(len(tri[i])):\n",
    "        if j == 0:\n",
    "            tri[i][j] += tri[i-1][0]\n",
    "        elif j == i:\n",
    "            tri[i][j] += tri[i-1][j-1]\n",
    "        else:\n",
    "            tri[i][j] += max(tri[i-1][j-1], tri[i-1][j])\n",
    "            \n",
    "print(max(tri[a-1]))"
   ]
  },
  {
   "cell_type": "code",
   "execution_count": null,
   "metadata": {
    "collapsed": true
   },
   "outputs": [],
   "source": [
    "# 2579 계단 오르기\n",
    "a = int(input())\n",
    "\n",
    "score = list()\n",
    "for i in range(a):\n",
    "    score.append(int(input()))\n",
    "\n",
    "dp = [0] * a\n",
    "dp[0] = score[0]\n",
    "dp[1] = score[0] + score[1]\n",
    "dp[2] = max(score[0] + score[2], score[1] + score[2])\n",
    "\n",
    "for i in range(3,a):\n",
    "    dp[i] = max(dp[i-2] + score[i], dp[i-3] + score[i] + score[i-1])\n",
    "print(dp[a-1])"
   ]
  },
  {
   "cell_type": "code",
   "execution_count": null,
   "metadata": {
    "collapsed": true
   },
   "outputs": [],
   "source": [
    "# 1005 ACM craft\n",
    "\n",
    "build, rule = map(int, input().split())\n",
    "\n",
    "time = list(map(int, input().split()))\n",
    "\n"
   ]
  },
  {
   "cell_type": "code",
   "execution_count": null,
   "metadata": {
    "collapsed": true
   },
   "outputs": [],
   "source": [
    "# 9095 1, 2, 3 더하기\n",
    "\n",
    "T = int(input())\n",
    "\n",
    "for _ in range(T):\n",
    "    x = int(input())\n",
    "\n",
    "    dp = [0 for _ in range(x+1)]\n",
    "    dp[1] = 1\n",
    "    dp[2] = 2\n",
    "    dp[3] = 4\n",
    "    for i in range(4, x+1):\n",
    "        dp[i] = dp[i-1] + dp[i-2] + dp[i-3]\n",
    "    print(dp[x])"
   ]
  },
  {
   "cell_type": "code",
   "execution_count": null,
   "metadata": {
    "collapsed": true
   },
   "outputs": [],
   "source": [
    "# 9095 1, 2, 3 더하기 \n",
    "# 런타임 ㅡㅡ\n",
    "T = int(input())\n",
    "\n",
    "for _ in range(T):\n",
    "    x = int(input())\n",
    "\n",
    "    dp = [0 for _ in range(x+1)]\n",
    "    dp[1] = 1\n",
    "    dp[2] = 2\n",
    "    dp[3] = 4\n",
    "    for i in range(4, x+1):\n",
    "        dp[i] = dp[i-1] + dp[i-2] + dp[i-3]\n",
    "    print(dp[x])"
   ]
  },
  {
   "cell_type": "code",
   "execution_count": null,
   "metadata": {
    "collapsed": true
   },
   "outputs": [],
   "source": [
    "# 9095 수정본 잘됨\n",
    "T = int(input())\n",
    "l = []\n",
    "for i in range(T):\n",
    "    tmp = int(input())\n",
    "    l.append(tmp)\n",
    "n = max(l)\n",
    "\n",
    "if n >= 0 and n < 11:\n",
    "    dp = [0 for _ in range(n+1)]\n",
    "    dp[1] = 1\n",
    "    dp[2] = 2\n",
    "    dp[3] = 4\n",
    "    for i in range(4, n+1):\n",
    "        dp[i] = dp[i-1] + dp[i-2] + dp[i-3]\n",
    "\n",
    "for n in l:\n",
    "    print(dp[n])"
   ]
  },
  {
   "cell_type": "code",
   "execution_count": null,
   "metadata": {
    "collapsed": true
   },
   "outputs": [],
   "source": [
    "a = [1,2,3]\n"
   ]
  }
 ],
 "metadata": {
  "kernelspec": {
   "display_name": "Python 3",
   "language": "python",
   "name": "python3"
  },
  "language_info": {
   "codemirror_mode": {
    "name": "ipython",
    "version": 3
   },
   "file_extension": ".py",
   "mimetype": "text/x-python",
   "name": "python",
   "nbconvert_exporter": "python",
   "pygments_lexer": "ipython3",
   "version": "3.6.3"
  }
 },
 "nbformat": 4,
 "nbformat_minor": 2
}
