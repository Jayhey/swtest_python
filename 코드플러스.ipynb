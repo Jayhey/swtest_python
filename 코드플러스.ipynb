{
 "cells": [
  {
   "cell_type": "code",
   "execution_count": null,
   "metadata": {
    "collapsed": true
   },
   "outputs": [],
   "source": [
    "# 인접행렬 DFS\n",
    "def DFS(x):\n",
    "    check[x] = True\n",
    "    print(x)\n",
    "    for i in range(n+1):\n",
    "        if a[x][i] == 1 and check[i] == False:\n",
    "            DFS(i)\n",
    "\n",
    "# 인접리스트 DFS\n",
    "def DFS(x):\n",
    "    check[x] = True\n",
    "    print(x)\n",
    "    for i in range(len(a[x])):\n",
    "        if check[a[x][i]] is False:\n",
    "            DFS(x)\n",
    "\n"
   ]
  },
  {
   "cell_type": "code",
   "execution_count": null,
   "metadata": {
    "collapsed": true
   },
   "outputs": [],
   "source": [
    "# 인접행렬 BFS\n",
    "def BFS(x):\n",
    "    que = list()\n",
    "    check[x] = True\n",
    "    que.append(x)\n",
    "    while que:\n",
    "        v = que.pop(0)\n",
    "        print(v)\n",
    "        for i in range(n+1):\n",
    "            if a[x][i] == 1 and check[i] == False:\n",
    "                check[i] = True\n",
    "                que.append(i)\n",
    "            \n",
    "# 인접리스트 BFS\n",
    "def BFS(x):\n",
    "    que = list()\n",
    "    check[x] = True\n",
    "    que.append(x)\n",
    "    while que:\n",
    "        v = que.pop(0)\n",
    "        print(v)\n",
    "        for i in range(len(a[x])):\n",
    "            if check[a[x][i]] if False:\n",
    "                check[a[x][i]] = True\n",
    "                que.append(v)"
   ]
  },
  {
   "cell_type": "code",
   "execution_count": null,
   "metadata": {
    "collapsed": true
   },
   "outputs": [],
   "source": [
    " "
   ]
  },
  {
   "cell_type": "code",
   "execution_count": 1,
   "metadata": {
    "collapsed": true
   },
   "outputs": [],
   "source": [
    "a = {1:[3,4], 2:[4,5]}"
   ]
  },
  {
   "cell_type": "code",
   "execution_count": 6,
   "metadata": {},
   "outputs": [
    {
     "data": {
      "text/plain": [
       "2"
      ]
     },
     "execution_count": 6,
     "metadata": {},
     "output_type": "execute_result"
    }
   ],
   "source": []
  },
  {
   "cell_type": "code",
   "execution_count": null,
   "metadata": {
    "collapsed": true
   },
   "outputs": [],
   "source": []
  }
 ],
 "metadata": {
  "hide_input": false,
  "kernelspec": {
   "display_name": "Python 3",
   "language": "python",
   "name": "python3"
  },
  "language_info": {
   "codemirror_mode": {
    "name": "ipython",
    "version": 3
   },
   "file_extension": ".py",
   "mimetype": "text/x-python",
   "name": "python",
   "nbconvert_exporter": "python",
   "pygments_lexer": "ipython3",
   "version": "3.6.3"
  }
 },
 "nbformat": 4,
 "nbformat_minor": 2
}
