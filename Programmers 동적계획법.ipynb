{
 "cells": [
  {
   "cell_type": "code",
   "execution_count": null,
   "metadata": {
    "collapsed": true
   },
   "outputs": [],
   "source": [
    "# 둘레길이 구하기\n",
    "def solve(N):\n",
    "    dp = [0] * int(N+2)\n",
    "    if N == 1: return 4\n",
    "    if N == 2: return 6\n",
    "    dp[0], dp[1], dp[2] = 0, 1, 1\n",
    "    for i in range(3, N+2):\n",
    "        dp[i] = dp[i-1] + dp[i-2]\n",
    "    return 2*dp[N-1] + 4*dp[N]"
   ]
  },
  {
   "cell_type": "code",
   "execution_count": null,
   "metadata": {
    "collapsed": true
   },
   "outputs": [],
   "source": [
    "# 정수 삼각형\n",
    "tri = [[7], [3, 8], [8, 1, 0], [2, 7, 4, 4], [4, 5, 2, 6, 5]]\n",
    "\n",
    "tri_sum = [[0]*i for i in range(1,len(tri)+1)]\n",
    "tri_sum[0][0] = tri[0][0]\n",
    "\n",
    "for i in range(1, len(tri)):\n",
    "    for j in range(len(tri[i])):\n",
    "        if j == 0: \n",
    "            tri_sum[i][j] = tri_sum[i-1][0] + tri[i][j]\n",
    "        elif j == len(tri[i])-1:\n",
    "            tri_sum[i][j] = tri_sum[i-1][-1] + tri[i][j]\n",
    "        else:\n",
    "            tri_sum[i][j] = max(tri_sum[i-1][j-1], tri_sum[i-1][j]) + tri[i][j]\n",
    "max(tri_sum[-1])"
   ]
  },
  {
   "cell_type": "code",
   "execution_count": null,
   "metadata": {},
   "outputs": [],
   "source": [
    "# 등굣길\n",
    "m, n = 4, 3\n",
    "\n",
    "dp = [[0] * m for _ in range(n)]\n",
    "for i in range(n):\n",
    "    dp[i][0] = i\n",
    "for i in range(m):\n",
    "    dp[0][i] = i\n",
    "puddles = [[1,1]]\n",
    "for p in puddles:\n",
    "    dp[p[0]][p[1]] = 9999\n",
    "for i in range(1,n):\n",
    "    for j in range(1,m):\n",
    "        ax = i-1\n",
    "        ay = j-1\n",
    "        if ax >= 0 and ax < n and ay >= 0 and ay < m and [i,j] not in puddles:\n",
    "            #print(i, j, ax, ay)\n",
    "            dp[i][j] = min(dp[i][ay], dp[ax][j]) + 1\n",
    "print(dp[n-1][m-1]-1)"
   ]
  },
  {
   "cell_type": "code",
   "execution_count": 5,
   "metadata": {},
   "outputs": [
    {
     "name": "stdout",
     "output_type": "stream",
     "text": [
      "[[0, 0, 0, 0], [0, -100, 0, 0], [0, 0, 0, 0]]\n"
     ]
    }
   ],
   "source": [
    "m, n = 4, 3\n",
    "dp = [[0] * m for _ in range(n)]\n",
    "\n",
    "puddles = [[2,2]]\n",
    "for p in puddles:\n",
    "    dp[p[0]-1][p[1]-1] = -100\n",
    "print(dp)\n",
    "\n",
    "for i in range(n):\n",
    "    for j in range(m):\n",
    "        ax = i-1\n",
    "        ay = j-1\n",
    "        if dp[i][j] == -100:\n",
    "            continue\n",
    "        "
   ]
  },
  {
   "cell_type": "code",
   "execution_count": null,
   "metadata": {},
   "outputs": [],
   "source": [
    "i, j = 1, 2\n",
    "ax, ay = 0, 1\n",
    "print(dp[i][ay], dp[ax][j])"
   ]
  },
  {
   "cell_type": "code",
   "execution_count": null,
   "metadata": {},
   "outputs": [],
   "source": [
    "for a in dp:\n",
    "    print(a)"
   ]
  },
  {
   "cell_type": "code",
   "execution_count": null,
   "metadata": {
    "collapsed": true
   },
   "outputs": [],
   "source": [
    "test = [2,2]\n",
    "puddles = [[2,2], [4,4]]\n",
    "if test not in puddles:\n",
    "    print(\"3\")"
   ]
  },
  {
   "cell_type": "code",
   "execution_count": null,
   "metadata": {
    "collapsed": true
   },
   "outputs": [],
   "source": []
  }
 ],
 "metadata": {
  "kernelspec": {
   "display_name": "Python 3",
   "language": "python",
   "name": "python3"
  },
  "language_info": {
   "codemirror_mode": {
    "name": "ipython",
    "version": 3
   },
   "file_extension": ".py",
   "mimetype": "text/x-python",
   "name": "python",
   "nbconvert_exporter": "python",
   "pygments_lexer": "ipython3",
   "version": "3.6.3"
  }
 },
 "nbformat": 4,
 "nbformat_minor": 2
}
